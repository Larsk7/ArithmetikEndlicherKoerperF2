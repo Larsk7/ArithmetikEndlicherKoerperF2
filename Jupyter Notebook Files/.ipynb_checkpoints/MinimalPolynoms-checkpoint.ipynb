{
 "cells": [
  {
   "cell_type": "code",
   "execution_count": 1,
   "id": "54478061",
   "metadata": {},
   "outputs": [],
   "source": [
    "from itertools import product"
   ]
  },
  {
   "cell_type": "code",
   "execution_count": 2,
   "id": "20d4150e",
   "metadata": {},
   "outputs": [],
   "source": [
    "# Funktion zum Überprüfen, ob ein Polynom eine Nullstelle hat (True wenns eine Nullstelle hat)\n",
    "def has_root(F):\n",
    "    \n",
    "    # Wenn die letzte Stelle eine 0 ist, dann ist F(0) eine Nullstelle\n",
    "    if F[-1] == 0:\n",
    "        return True\n",
    "    \n",
    "    one_counter = 0\n",
    "    \n",
    "    # Zähle die 1er des Polynoms\n",
    "    for i in range(len(F)):\n",
    "        if F[i] == 1:\n",
    "            one_counter = one_counter + 1\n",
    "            \n",
    "    # Wenn die Anzahl der 1er gerade ist, dann ist F(1) eine Nullstelle        \n",
    "    if (one_counter % 2) == 0:\n",
    "        return True\n",
    "    \n",
    "    # Wenn 0 und 1 keine Nullstelle ist, hat das Polynom keine Nullstelle\n",
    "    return False"
   ]
  },
  {
   "cell_type": "code",
   "execution_count": 3,
   "id": "86d0b320",
   "metadata": {},
   "outputs": [],
   "source": [
    "# Funktion um die Stelle der ersten 1 zu finden\n",
    "def find_pos_of_first_one(F):\n",
    "    \n",
    "    # Gibt die erste Stelle zurück, an der der Wert 1 ist\n",
    "    for i in range(len(F)):\n",
    "        if F[i] == 1:\n",
    "            return i\n",
    "    \n",
    "    # Gibt nichts zurück, falls keine Null im Polynom \n",
    "    return None"
   ]
  },
  {
   "cell_type": "code",
   "execution_count": 4,
   "id": "52ab21bb",
   "metadata": {},
   "outputs": [],
   "source": [
    "# Funktion um den Grad eines Polynoms zu finden\n",
    "def find_degree(F):\n",
    "    \n",
    "    # Erhalte die Stelle der ersten 1\n",
    "    pos_of_first_one = find_pos_of_first_one(F)\n",
    "    \n",
    "    # Bestimme den Grad des Polynoms anhand der Stelle der ersten 1 und der Restlänge des Polynoms\n",
    "    if pos_of_first_one != None:\n",
    "        return (len(F)-1) - pos_of_first_one\n",
    "    \n",
    "    # Wenn das Polynom nur Nullen enthält, kann man keinen Grad bestimmen\n",
    "    else:\n",
    "        return print(f\"F has only zeros\")"
   ]
  },
  {
   "cell_type": "code",
   "execution_count": 5,
   "id": "51e71ee5",
   "metadata": {},
   "outputs": [],
   "source": [
    "# Funktion die alle möglichen Minimalpolynome, bis zu einem bestimmten Grad erzeugt \n",
    "def generate_all_minimal_polynoms(max_degree):\n",
    "    \n",
    "    # Liste in der alle möglichen Polynom-Kombinationen gespeichert werden\n",
    "    list_of_minimal_polynoms = []\n",
    "    \n",
    "    # Erstellt Polynome für alle Grade von 2 bis zum gegebenen maximalen Grad\n",
    "    for degree in range(2, max_degree+1):\n",
    "        \n",
    "        # Erstellt alle Koeffizienten-Kombinationen (Kartesischen Produkt) mit der Länge des aktuellen Grads\n",
    "        for polynom in product([0,1], repeat = degree+1):\n",
    "            \n",
    "            # Nur wenn die erste Stelle eine 1 ist, ergibt sich ein neues Polynom, und dies muss ein Minimalpolynom sein\n",
    "            if polynom[0] == 1 and is_minimal_polynom(polynom) == True:\n",
    "                \n",
    "                # Füge die Polynome einzeln der Liste aller Polynome hinzu \n",
    "                list_of_minimal_polynoms.append(polynom)\n",
    "                \n",
    "    return list_of_minimal_polynoms"
   ]
  },
  {
   "cell_type": "code",
   "execution_count": 6,
   "id": "f3ab38b1",
   "metadata": {},
   "outputs": [],
   "source": [
    "# Funktion zum Überprüfen, ob ein Polynom ein Minimalpolynom ist\n",
    "def is_minimal_polynom(F):\n",
    "    \n",
    "    # Wenn das Polynom F eine Nullstelle hat, kann es kein Minimalpolynom sein\n",
    "    if has_root(F):\n",
    "        return False\n",
    "    \n",
    "    # Bestimme den Grad des Polynoms\n",
    "    degree = find_degree(F)\n",
    "    \n",
    "    # Bestimme den Maximalen Teilergrad, in den das Polynom zerfallen kann\n",
    "    max_divisor_degree = degree // 2\n",
    "    \n",
    "    # Bestimme Liste aller Minimalpolynome abhängig vom maximalen Teilergrad\n",
    "    list_of_minimal_polynoms = generate_all_minimal_polynoms(max_divisor_degree)\n",
    "\n",
    "    # Teile das Polynom F durch alle Minimalpolynome (abhängig vom maximalen Teilergrad)\n",
    "    for G in list_of_minimal_polynoms:\n",
    "        \n",
    "        Solution, Remainder = polynom_division(F, G)\n",
    "        \n",
    "        # Wenn eine Polynomdivison ohne Rest aufgeht, dann ist F kein Minimalpolynom\n",
    "        if tuple_to_polynom(Remainder) == 0:\n",
    "            return False\n",
    "    \n",
    "    # Keine Nullstelle und keine Polynomdivision geht ohne Rest auf -> F ist Minimalpolynom\n",
    "    return True"
   ]
  }
 ],
 "metadata": {
  "kernelspec": {
   "display_name": "Python 3 (ipykernel)",
   "language": "python",
   "name": "python3"
  },
  "language_info": {
   "codemirror_mode": {
    "name": "ipython",
    "version": 3
   },
   "file_extension": ".py",
   "mimetype": "text/x-python",
   "name": "python",
   "nbconvert_exporter": "python",
   "pygments_lexer": "ipython3",
   "version": "3.9.12"
  }
 },
 "nbformat": 4,
 "nbformat_minor": 5
}
