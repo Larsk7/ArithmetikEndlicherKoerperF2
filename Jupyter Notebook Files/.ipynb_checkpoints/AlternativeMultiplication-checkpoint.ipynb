{
 "cells": [
  {
   "cell_type": "code",
   "execution_count": 1,
   "id": "2bc644f3",
   "metadata": {},
   "outputs": [],
   "source": [
    "%run AddPolynoms.ipynb\n",
    "%run Euclid.ipynb"
   ]
  },
  {
   "cell_type": "code",
   "execution_count": 2,
   "id": "87fabd73",
   "metadata": {},
   "outputs": [],
   "source": [
    "# Bei diesem Algorithmus gibt es 2 Fälle auf die die Multiplikation zurückgeführt wird:\n",
    "# a = (r_l-1, r_l-2, ..., r1, r0)  # a ist ein beliebiges Tupel\n",
    "# u = (u_l-1, u_l-2, ..., u1, u0)  # u ist das Überlauftupel (also entspricht der Relation)\n",
    "# 1. (0, ..., 0, 1) * a = a\n",
    "# 2. (0, ..., 0, 1, 0) * a = (r_l-2, ..., r1, r0, 0) + r_l-1 * u "
   ]
  },
  {
   "cell_type": "code",
   "execution_count": 3,
   "id": "36926a04",
   "metadata": {},
   "outputs": [],
   "source": [
    "# Funktion die ein Tupel in verschiedene Tupel aufteilt, in denen jeweils nur eine 1 steht\n",
    "# position_indexes bestimmt welche Positionen eine 1 haben muss und L die Länge des Polynoms\n",
    "def create_splitted_tuples(position_indexes, L):\n",
    "    \n",
    "    # Leere Liste, in die später die Tupel geschrieben werden\n",
    "    tuple_list = []\n",
    "    \n",
    "    # Erstelle so viele Tupel, wie Elemente in P sind\n",
    "    for index in position_indexes:\n",
    "        \n",
    "        # Erstellung der Tupel, die je nur eine 1 haben\n",
    "        tuple_element = tuple(1 if i == index else 0 for i in range(L))\n",
    "        \n",
    "        # Erstelltes Tupel an die Liste anhängen\n",
    "        tuple_list.append(tuple_element)\n",
    "    \n",
    "    return tuple_list"
   ]
  },
  {
   "cell_type": "code",
   "execution_count": 4,
   "id": "9cedc83f",
   "metadata": {},
   "outputs": [],
   "source": [
    "# Funktion um Polynome zu Multiplizieren mit einem alternativen Algorithmus\n",
    "# F und G sind die Faktoren der Multiplikation und M ist das Minimalpolynom der definierenden Relation\n",
    "def alternative_multiplication(F, G, M):\n",
    "    \n",
    "    # Aus dem Minimalpolynom M ein Polynom machen, welches die Definierende Relation darstellt\n",
    "    R = cut_zeros_left(M[1:])\n",
    "    \n",
    "    # Finde alle Stellen von F heraus, an denen eine 1 steht\n",
    "    pos_of_ones = [index for index, value in enumerate(F) if value == 1]\n",
    "    \n",
    "    # Erstelle aus den 1er-Stellen eine Tupel Liste, die je nur eine 1 (entsprechend der 1er-Stellen) haben\n",
    "    tuple_list = create_splitted_tuples(pos_of_ones, len(F))\n",
    "    \n",
    "    # Lösungspolynom\n",
    "    S = ()\n",
    "        \n",
    "    # Iteriere über die Tupel in der Tupel-Liste\n",
    "    for i in range(len(tuple_list)):\n",
    "        \n",
    "        # Wenn die letzte Stelle des aktuellen Tupels eine 1 ist, dann addiere G zum Lösungspolynom\n",
    "        if tuple_list[i][-1] == 1:\n",
    "            S = add_polynoms(S,G)\n",
    "        \n",
    "        # Wenn die 1 nicht an letzter Stelle ist, muss Fall 2 des Algorithmus durchgeführt werden\n",
    "        else:\n",
    "            \n",
    "            # Ermittle den Abstand der 1 des Tupels zur vorletzten Stelle\n",
    "            distance = len(F) - 2 - tuple_list[i].index(1)\n",
    "            \n",
    "            # Der Abstand plus 1 ist wie oft der 2. Fall des Algorithmus angewendet werden muss (siehe oben) \n",
    "            iteration_count = distance + 1 \n",
    "            \n",
    "            # Zwischenspeicherung von G in temp, da temp verändert wird, und man G unverändert braucht\n",
    "            temp = G\n",
    "            \n",
    "            # Iteriere über die Anzahl \"iteration_count\" -> entspricht wie viele Stellen G verschoben werden muss\n",
    "            for i in range(iteration_count):\n",
    "                \n",
    "                # Wenn die Summe der Längen von F und G kleiner als die Länge von M ist, wird die Relation nicht gebraucht\n",
    "                if len(cut_zeros_left(F)) + len(cut_zeros_left(G)) < len(cut_zeros_left(M)):\n",
    "                    temp = temp + (0,)\n",
    "                    \n",
    "                # Wenn dies nicht der Fall ist, führe Fall 2 so oft wie \"iteration_count\" ist durch\n",
    "                else: \n",
    "                    temp = add_polynoms(temp[1:] + (0,), temp[0] * R)\n",
    "                \n",
    "            # Addiere temp zum Lösungstupel\n",
    "            S = add_polynoms(S, temp)\n",
    "        \n",
    "    return cut_zeros_left(S)"
   ]
  }
 ],
 "metadata": {
  "kernelspec": {
   "display_name": "Python 3 (ipykernel)",
   "language": "python",
   "name": "python3"
  },
  "language_info": {
   "codemirror_mode": {
    "name": "ipython",
    "version": 3
   },
   "file_extension": ".py",
   "mimetype": "text/x-python",
   "name": "python",
   "nbconvert_exporter": "python",
   "pygments_lexer": "ipython3",
   "version": "3.9.12"
  }
 },
 "nbformat": 4,
 "nbformat_minor": 5
}
