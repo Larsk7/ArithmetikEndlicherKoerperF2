{
 "cells": [
  {
   "cell_type": "code",
   "execution_count": null,
   "id": "3948c4d2",
   "metadata": {},
   "outputs": [],
   "source": [
    "%run TupleToPolynom.ipynb\n",
    "%run AddPolynoms.ipynb\n",
    "%run PolynomDivision.ipynb\n",
    "%run MinimalPolynoms.ipynb\n",
    "%run MultiplyPolynoms.ipynb\n",
    "%run Euclid.ipynb\n",
    "%run AlternativeMultiplication.ipynb"
   ]
  },
  {
   "cell_type": "code",
   "execution_count": null,
   "id": "501f3c40",
   "metadata": {},
   "outputs": [],
   "source": [
    "# F und G stellen F(X) und G(X) als binäres Tupel dar\n",
    "F = (1,1,0,0,1,0,1,1)\n",
    "G = (1,1,1)"
   ]
  },
  {
   "cell_type": "code",
   "execution_count": null,
   "id": "0091cd45",
   "metadata": {},
   "outputs": [],
   "source": [
    "# F und G als Polynom ausgeben\n",
    "print(f\"F(X) = {tuple_to_polynom(F)}\")\n",
    "print(f\"G(X) = {tuple_to_polynom(G)}\")"
   ]
  },
  {
   "cell_type": "code",
   "execution_count": null,
   "id": "36598413",
   "metadata": {},
   "outputs": [],
   "source": [
    "# F und G Addieren\n",
    "print(f\"F(X) + G(X) = {tuple_to_polynom(add_polynoms(F,G))}\")"
   ]
  },
  {
   "cell_type": "code",
   "execution_count": null,
   "id": "e9d477fc",
   "metadata": {
    "scrolled": true
   },
   "outputs": [],
   "source": [
    "# Polynomdivision: F/G\n",
    "Lösung, Rest = polynom_division(F, G)\n",
    "print(f\"Lösung: {tuple_to_polynom(Lösung)} | Rest: {tuple_to_polynom(Rest)}\")"
   ]
  },
  {
   "cell_type": "code",
   "execution_count": null,
   "id": "39e20877",
   "metadata": {},
   "outputs": [],
   "source": [
    "# Überprüfe ob F ein Minimalpolynom ist\n",
    "if is_minimal_polynom(F):\n",
    "    print(\"F ist ein Minimalpolynom\")\n",
    "else:\n",
    "    print(\"F ist kein Minimalpolynom\")"
   ]
  },
  {
   "cell_type": "code",
   "execution_count": null,
   "id": "586d328d",
   "metadata": {},
   "outputs": [],
   "source": [
    "# F und G multiplizieren\n",
    "print(f\"{tuple_to_polynom(multiply_polynoms(F, G))}\")"
   ]
  },
  {
   "cell_type": "code",
   "execution_count": null,
   "id": "7c20f54e",
   "metadata": {},
   "outputs": [],
   "source": [
    "# Anwendung von Euklid-Algo (Bsp. aus der VL 4.4c)\n",
    "A = (1,0,0,0,1,1,1,0,1)\n",
    "B = (1,1,1,1,0,1)\n",
    "ggT, bkA, bkB = euclid(A, B)\n",
    "print(ggT, bkA, bkB)"
   ]
  },
  {
   "cell_type": "code",
   "execution_count": null,
   "id": "5cf74f14",
   "metadata": {},
   "outputs": [],
   "source": [
    "# H ist das Ergebnis einer Multiplikation, das mit dem Minimalpolynom H reduziert wird (Bsp. aus der VL 4.4c)\n",
    "H = (1,0,1,0,1,1,0,1,1,1,1,0,1,0)\n",
    "M = (1,0,0,0,1,1,1,0,1)\n",
    "print(f\"{reduce_product(H, M)}\")"
   ]
  },
  {
   "cell_type": "code",
   "execution_count": null,
   "id": "0b85025f",
   "metadata": {},
   "outputs": [],
   "source": [
    "F = (1,1,0)\n",
    "G = (1,0,1)\n",
    "M = (1,0,0,0,1,1,1,0,1)\n",
    "N = (1,0,1,1)\n",
    "\n",
    "if len(M) <= len(F) or len(M) <= len(G):\n",
    "    print(\"F oder G zu groß für die Relation\")\n",
    "    \n",
    "C = multiply_polynoms(F, G)\n",
    "A = reduce_product(C, M)\n",
    "B = alternative_multiplication(F, G, M)\n",
    "\n",
    "print(f\"mult: ={C}\")\n",
    "print(f\"redmult: {A}\")\n",
    "print(f\"altmult: {B}\")"
   ]
  },
  {
   "cell_type": "code",
   "execution_count": null,
   "id": "985b1c8a",
   "metadata": {},
   "outputs": [],
   "source": []
  }
 ],
 "metadata": {
  "kernelspec": {
   "display_name": "Python 3 (ipykernel)",
   "language": "python",
   "name": "python3"
  },
  "language_info": {
   "codemirror_mode": {
    "name": "ipython",
    "version": 3
   },
   "file_extension": ".py",
   "mimetype": "text/x-python",
   "name": "python",
   "nbconvert_exporter": "python",
   "pygments_lexer": "ipython3",
   "version": "3.9.12"
  }
 },
 "nbformat": 4,
 "nbformat_minor": 5
}
