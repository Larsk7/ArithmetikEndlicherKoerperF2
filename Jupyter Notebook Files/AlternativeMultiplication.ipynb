{
 "cells": [
  {
   "cell_type": "code",
   "execution_count": 1,
   "id": "2bc644f3",
   "metadata": {},
   "outputs": [],
   "source": [
    "%run AddPolynoms.ipynb\n",
    "%run Euclid.ipynb"
   ]
  },
  {
   "cell_type": "code",
   "execution_count": 2,
   "id": "87fabd73",
   "metadata": {},
   "outputs": [],
   "source": [
    "# Bei diesem Algorithmus gibt es 2 Fälle auf die die Multiplikation zurückgeführt wird:\n",
    "# a = (r_l-1, r_l-2, ..., r1, r0)  # a ist ein beliebiges Tupel\n",
    "# u = (u_l-1, u_l-2, ..., u1, u0)  # u ist das Überlauftupel (also entspricht der Relation)\n",
    "# 1. (0, ..., 0, 1) * a = a\n",
    "# 2. (0, ..., 0, 1, 0) * a = (r_l-2, ..., r1, r0, 0) + r_l-1 * u "
   ]
  },
  {
   "cell_type": "code",
   "execution_count": 3,
   "id": "9cedc83f",
   "metadata": {},
   "outputs": [],
   "source": [
    "# Funktion um Polynome zu Multiplizieren mit einem alternativen Algorithmus\n",
    "# F und G sind die Faktoren der Multiplikation und M ist das Minimalpolynom der definierenden Relation\n",
    "def alternative_multiplication(F, G, M):\n",
    "    \n",
    "    # Aus dem Minimalpolynom M ein Polynom machen, welches die Definierende Relation darstellt\n",
    "    R = cut_zeros_left(M[1:])\n",
    "    \n",
    "    # Finde alle Stellen von F heraus, an denen eine 1 steht\n",
    "    pos_of_ones = [index for index, value in enumerate(F) if value == 1]\n",
    "    \n",
    "    "
   ]
  },
  {
   "cell_type": "code",
   "execution_count": 4,
   "id": "6871d554",
   "metadata": {},
   "outputs": [],
   "source": [
    "F = (1,0,1)\n",
    "G = (1,0,0,1)\n",
    "M = (1,0,0,1,1)\n",
    "alternative_multiplication(F, G, M)"
   ]
  },
  {
   "cell_type": "code",
   "execution_count": null,
   "id": "7d47daab",
   "metadata": {},
   "outputs": [],
   "source": []
  }
 ],
 "metadata": {
  "kernelspec": {
   "display_name": "Python 3 (ipykernel)",
   "language": "python",
   "name": "python3"
  },
  "language_info": {
   "codemirror_mode": {
    "name": "ipython",
    "version": 3
   },
   "file_extension": ".py",
   "mimetype": "text/x-python",
   "name": "python",
   "nbconvert_exporter": "python",
   "pygments_lexer": "ipython3",
   "version": "3.9.12"
  }
 },
 "nbformat": 4,
 "nbformat_minor": 5
}
