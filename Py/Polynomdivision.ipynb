{
 "cells": [
  {
   "cell_type": "code",
   "execution_count": 1,
   "id": "3948c4d2",
   "metadata": {},
   "outputs": [],
   "source": [
    "# F stellt F(X) als binäres Tupel dar\n",
    "F = (1,0,1,1,0,1,1,1)\n",
    "\n",
    "# G stellt G(X) als binäres Tupel dar\n",
    "G = (1,1,1)"
   ]
  },
  {
   "cell_type": "code",
   "execution_count": 2,
   "id": "5c9c3d43",
   "metadata": {},
   "outputs": [],
   "source": [
    "# Funktion um ein binäres Tupel zu einem Polynom zu machen\n",
    "def tuple_to_polynom(tuple):\n",
    "    \n",
    "    # Wenn Polynom nur Nuller hat -> Return 0\n",
    "    if all(element == 0 for element in tuple):\n",
    "        return 0\n",
    "    \n",
    "    # Liste in die das Polynon gefüllt wird\n",
    "    polynom = []\n",
    "    \n",
    "    for counter, coeff in enumerate(reversed(tuple)):\n",
    "        \n",
    "        # Wenn Vorfaktor = 1 -> ergänze Polynom um 1, X oder X^counter\n",
    "        if coeff == 1:\n",
    "            if counter == 0:\n",
    "                polynom.append(\"1\")  \n",
    "                \n",
    "            elif counter == 1:\n",
    "                polynom.append(\"X\") \n",
    "                \n",
    "            else:\n",
    "                polynom.append(f\"X^{counter}\") \n",
    "                \n",
    "    # Verbinde die X-Potenzen des Polynoms mit +            \n",
    "    return \" + \".join(reversed(polynom)) "
   ]
  },
  {
   "cell_type": "code",
   "execution_count": 3,
   "id": "0091cd45",
   "metadata": {},
   "outputs": [
    {
     "name": "stdout",
     "output_type": "stream",
     "text": [
      "F(X) = X^7 + X^5 + X^4 + X^2 + X + 1\n",
      "G(X) = X^2 + X + 1\n"
     ]
    }
   ],
   "source": [
    "# F und G als Polynom ausgeben\n",
    "Fx = tuple_to_polynom(F)\n",
    "print(f\"F(X) = {Fx}\")\n",
    "\n",
    "Gx = tuple_to_polynom(G)\n",
    "print(f\"G(X) = {Gx}\")"
   ]
  },
  {
   "cell_type": "code",
   "execution_count": 4,
   "id": "cb43cbef",
   "metadata": {},
   "outputs": [],
   "source": [
    "# Funktion um 2 Tupel zu addieren (wird in der Polynomdivision verwendet)\n",
    "def add_tuple(F, G):\n",
    "    \n",
    "    # kürzeres Tupel mit Nullen (nach rechts) auffüllen, damit die Tupel gleichviele Stellen haben\n",
    "    if len(F) > len(G): \n",
    "        G = G + (0,) * (len(F) - len(G))\n",
    "        \n",
    "    else:\n",
    "        F = F + (0,) * (len(G) - len(F))\n",
    "        \n",
    "    # Lösungspolynom der Addition als leere Liste (später Umwandlung zum Polynom)\n",
    "    S = [] \n",
    "    \n",
    "    #Iterative Addition der Stellen (in Modulo 2)\n",
    "    for counter in range(len(F)):\n",
    "        S.append((F[counter] + G [counter]) % 2)\n",
    "    \n",
    "    return tuple(S)"
   ]
  },
  {
   "cell_type": "code",
   "execution_count": 5,
   "id": "15d9cb60",
   "metadata": {},
   "outputs": [],
   "source": [
    "# Funktion um Polynomdivision mit den beiden binären Tupel F und G durchzuführen\n",
    "def polynom_division(F, G):\n",
    "    \n",
    "    # Lösungs-Polynom als leere Liste (später Umwandlung zum Polynom)    \n",
    "    S = [] \n",
    "    \n",
    "    # Speichern der Anfangslänge von F\n",
    "    starting_len = len(F)\n",
    "    \n",
    "    for counter in range(len(F)):\n",
    "        \n",
    "        # Abbrechbedingung der Schleife: F muss min die länge von G haben\n",
    "        if len(F[counter:]) < len(G): \n",
    "            \n",
    "            # Was am Ende in F steht, stellt den Rest dar\n",
    "            return tuple(S), tuple(F)\n",
    "        \n",
    "        # Nächste Stelle des Lösungspolynoms entspricht aktueller Stelle vom Zählerpolynom\n",
    "        S.append(F[counter]) \n",
    "        \n",
    "        # Wenn aktuelle Stelle vom ZP=1, dann addition von ZP und NP -> Ergebnis in ZP\n",
    "        if F[counter] == 1: \n",
    "            \n",
    "            # F bei der Addition nach links einrücken\n",
    "            F = add_tuple(F[counter:], G) \n",
    "            \n",
    "        # F von links mitten Nullen füllen\n",
    "        F = (0,) * (starting_len - len(F)) + F \n",
    "        \n",
    "    # Endlosschleife verhindern, falls das Return in der Schleife nie erreicht wird        \n",
    "    print(\"Fehler aufgetreten\")\n",
    "    return "
   ]
  },
  {
   "cell_type": "code",
   "execution_count": 6,
   "id": "e9d477fc",
   "metadata": {
    "scrolled": true
   },
   "outputs": [
    {
     "name": "stdout",
     "output_type": "stream",
     "text": [
      "Lösung: X^5 + X^4 + X^3 + X^2 | Rest: X + 1\n"
     ]
    }
   ],
   "source": [
    "Lösung, Rest = polynom_division(F, G)\n",
    "print(f\"Lösung: {tuple_to_polynom(Lösung)} | Rest: {tuple_to_polynom(Rest)}\")"
   ]
  },
  {
   "cell_type": "code",
   "execution_count": null,
   "id": "6708ecb6",
   "metadata": {},
   "outputs": [],
   "source": []
  }
 ],
 "metadata": {
  "kernelspec": {
   "display_name": "Python 3 (ipykernel)",
   "language": "python",
   "name": "python3"
  },
  "language_info": {
   "codemirror_mode": {
    "name": "ipython",
    "version": 3
   },
   "file_extension": ".py",
   "mimetype": "text/x-python",
   "name": "python",
   "nbconvert_exporter": "python",
   "pygments_lexer": "ipython3",
   "version": "3.9.12"
  }
 },
 "nbformat": 4,
 "nbformat_minor": 5
}
