{
 "cells": [
  {
   "cell_type": "code",
   "execution_count": 1,
   "id": "0eace82e-8fff-498a-abb8-46b60983b0a3",
   "metadata": {},
   "outputs": [],
   "source": [
    "%run MinimalPolynoms.ipynb\n",
    "%run MultiplyPolynoms.ipynb\n",
    "%run AlternativeMultiplication.ipynb\n",
    "%run PolynomDivision.ipynb\n",
    "%run TupleToPolynom.ipynb\n",
    "\n",
    "import time as t"
   ]
  },
  {
   "cell_type": "code",
   "execution_count": 2,
   "id": "1088f625-4823-4e25-b100-75e399e274ff",
   "metadata": {},
   "outputs": [
    {
     "name": "stdout",
     "output_type": "stream",
     "text": [
      "Falsch: 0\n",
      "Korrekt: 65536\n"
     ]
    }
   ],
   "source": [
    "# Methodischer Test, ob beide Multiplikationen für alle möglichen Tupelkombinationen, die in einer Relation existieren, übereinstimmen\n",
    "\n",
    "# Minimalpolynom festlegen (aus der Relation)\n",
    "M = (1,0,0,0,1,1,0,1,1)\n",
    "\n",
    "# Check, ob M ein Minimalpolynom ist\n",
    "if not is_minimal_polynom(M):\n",
    "    print(f\"das gegebene Polynom {M} ist kein Minimalpolynom!\")\n",
    "    \n",
    "# bestimme die Länge n, die die Tupel anhand M maximal haben dürfen (müssen 1 kürzer als M sein)\n",
    "n = len(M) - 1\n",
    "\n",
    "# Liste aller möglichen Tupel-Kombinationen, der Länge n  \n",
    "List_of_all_tupels = list(product([0, 1], repeat=n))\n",
    "\n",
    "# Fehler- und Korrekt-Counter, die erhöht werden sollten die Ergebnisser der beiden Multiplikationen übereinstimmen (oder nicht)\n",
    "mistake_counter = 0\n",
    "correct_counter = 0\n",
    "\n",
    "# Alle Tupel-Kombinationen untereinender multiplizieren (mit beiden Varianten), dann Ergebnisse der beiden Varianten vergleichen\n",
    "for F in List_of_all_tupels: \n",
    "    for G in List_of_all_tupels:\n",
    "\n",
    "        # Berechne die Ergebnisse der beiden Varianten\n",
    "        A = reduce_product(multiply_polynoms(F, G), M)\n",
    "        B = alternative_multiplication(F, G, M) \n",
    "\n",
    "        # Wenn die Ergebnisse nicht gleich sind, erhöhe den Fehler-Counter \n",
    "        if tuple_to_polynom(A) != tuple_to_polynom(B):\n",
    "            mistake_counter = mistake_counter + 1\n",
    "\n",
    "        # Wenn die Ergebnisse gleich sind, erhöhe den Fehler-Counter\n",
    "        else:\n",
    "            correct_counter = correct_counter + 1\n",
    "\n",
    "# Ausgabe der Counter\n",
    "print(f\"Falsch: {mistake_counter}\")\n",
    "print(f\"Korrekt: {correct_counter}\")"
   ]
  },
  {
   "cell_type": "code",
   "execution_count": 3,
   "id": "b44c6bbc-bf02-46a1-88f9-637f17ad6a3d",
   "metadata": {},
   "outputs": [
    {
     "name": "stdout",
     "output_type": "stream",
     "text": [
      "1. Variante: 1.32124 Sekunden\n",
      "2. Variante: 2.52041 Sekunden\n"
     ]
    }
   ],
   "source": [
    "# Vergleiche die Zeit, die die beiden Varianten zum Multiplizieren aller Tupelkombinationen einer Relation brauchen\n",
    "\n",
    "# Minimalpolynom bestimmen (welches die Relation representieren soll)\n",
    "#M = (1,0,0,1,1) # Grad 4\n",
    "M = (1,0,0,0,1,1,0,1,1) # Grad 8\n",
    "#M = (1,0,0,0,0,0,0,0,0,0,0,0,0,0,1,1) # Grad 15\n",
    "#M = (1,0,0,0,0,0,0,0,0,0,0,0,0,0,0,0,0,1,0,0,1) # Grad 20\n",
    "\n",
    "# Check, ob M ein Minimalpolynom ist\n",
    "if not is_minimal_polynom(M):\n",
    "    print(f\"das gegebene Polynom {M} ist kein Minimalpolynom!\")\n",
    "\n",
    "# bestimme die Länge n, die die Tupel anhand M maximal haben dürfen (müssen 1 kürzer als M sein)\n",
    "n = len(M) - 1\n",
    "\n",
    "# Liste aller möglichen Tupel-Kombinationen, der Länge n  \n",
    "List_of_all_tupels = list(product([0, 1], repeat=n))\n",
    "\n",
    "\n",
    "\n",
    "# Mutliplikation aller Tupelkombinationen für die erste Variante (MultiplyPolynoms)\n",
    "\n",
    "# Startzeitpunkt\n",
    "start1 = t.time()\n",
    "\n",
    "# Iteration über alle Tupel-Multiplikationen\n",
    "for F in List_of_all_tupels: \n",
    "    for G in List_of_all_tupels:\n",
    "        result1 = reduce_product(multiply_polynoms(F, G), M)\n",
    "\n",
    "# Endzeitpunkt\n",
    "end1 = t.time()\n",
    "\n",
    "# Differenz der Zeitpunkte bilden und ausgeben (auf 5 Nachkommastellen)\n",
    "print(f\"1. Variante: {(end1 - start1):.5f} Sekunden\")\n",
    "\n",
    "\n",
    "\n",
    "# Mutliplikation aller Tupelkombinationen für die zweite Variante (AlternativeMultiplication)\n",
    "\n",
    "# Startzeitpunkt\n",
    "start2 = t.time()\n",
    "\n",
    "# Iteration über alle Tupel-Multiplikationen\n",
    "for F in List_of_all_tupels: \n",
    "    for G in List_of_all_tupels:\n",
    "        result2 = alternative_multiplication(F, G, M)\n",
    "\n",
    "# Endzeitpunkt\n",
    "end2 = t.time()\n",
    "\n",
    "# Differenz der Zeitpunkte bilden und ausgeben (auf 5 Nachkommastellen)\n",
    "print(f\"2. Variante: {(end2 - start2):.5f} Sekunden\")"
   ]
  },
  {
   "cell_type": "code",
   "execution_count": null,
   "id": "b9ec1fe0-fccc-4047-9056-f171ae4e520d",
   "metadata": {},
   "outputs": [],
   "source": []
  }
 ],
 "metadata": {
  "kernelspec": {
   "display_name": "Python 3 (ipykernel)",
   "language": "python",
   "name": "python3"
  },
  "language_info": {
   "codemirror_mode": {
    "name": "ipython",
    "version": 3
   },
   "file_extension": ".py",
   "mimetype": "text/x-python",
   "name": "python",
   "nbconvert_exporter": "python",
   "pygments_lexer": "ipython3",
   "version": "3.12.7"
  }
 },
 "nbformat": 4,
 "nbformat_minor": 5
}
