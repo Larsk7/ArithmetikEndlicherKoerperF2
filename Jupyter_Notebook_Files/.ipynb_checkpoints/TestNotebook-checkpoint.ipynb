{
 "cells": [
  {
   "cell_type": "code",
   "execution_count": 1,
   "id": "3948c4d2",
   "metadata": {},
   "outputs": [],
   "source": [
    "%run ./Functions/TupleToPolynom.ipynb\n",
    "%run ./Functions/AddPolynoms.ipynb\n",
    "%run ./Functions/PolynomDivision.ipynb\n",
    "%run ./Functions/MinimalPolynoms.ipynb\n",
    "%run ./Functions/MultiplyPolynoms.ipynb\n",
    "%run ./Functions/Euclid.ipynb\n",
    "%run ./Functions/AlternativeMultiplication.ipynb\n",
    "%run ./Functions/AuxiliaryFunctions.ipynb\n",
    "%run ./Functions/CantorZassenhaus.ipynb"
   ]
  },
  {
   "cell_type": "code",
   "execution_count": 2,
   "id": "501f3c40",
   "metadata": {},
   "outputs": [],
   "source": [
    "# F und G stellen F(X) und G(X) als binäres Tupel dar\n",
    "F = (1,1,0,0,1,0,1,1)\n",
    "G = (1,1,1)"
   ]
  },
  {
   "cell_type": "code",
   "execution_count": 3,
   "id": "0091cd45",
   "metadata": {},
   "outputs": [
    {
     "name": "stdout",
     "output_type": "stream",
     "text": [
      "F(X) = (X^7 + X^6 + X^3 + X + 1)\n",
      "G(X) = (X^2 + X + 1)\n"
     ]
    }
   ],
   "source": [
    "# Test TupleToPolynom\n",
    "# F und G als Polynom ausgeben\n",
    "print(f\"F(X) = {tuple_to_polynom(F)}\")\n",
    "print(f\"G(X) = {tuple_to_polynom(G)}\")"
   ]
  },
  {
   "cell_type": "code",
   "execution_count": 4,
   "id": "36598413",
   "metadata": {},
   "outputs": [
    {
     "name": "stdout",
     "output_type": "stream",
     "text": [
      "F(X) + G(X) = (X^7 + X^6 + X^3 + X^2)\n"
     ]
    }
   ],
   "source": [
    "# Test AddPolynoms\n",
    "# F und G Addieren\n",
    "print(f\"F(X) + G(X) = {tuple_to_polynom(add_polynoms(F,G))}\")"
   ]
  },
  {
   "cell_type": "code",
   "execution_count": 5,
   "id": "e9d477fc",
   "metadata": {
    "scrolled": true
   },
   "outputs": [
    {
     "name": "stdout",
     "output_type": "stream",
     "text": [
      "Lösung: (X^5 + X^3 + X^2 + X) | Rest: (1)\n"
     ]
    }
   ],
   "source": [
    "# Test PolynomDivision \n",
    "# Teile das Polynom F durch G\n",
    "Lösung, Rest = polynom_division(F, G)\n",
    "print(f\"Lösung: {tuple_to_polynom(Lösung)} | Rest: {tuple_to_polynom(Rest)}\")"
   ]
  },
  {
   "cell_type": "code",
   "execution_count": 6,
   "id": "39e20877",
   "metadata": {},
   "outputs": [
    {
     "name": "stdout",
     "output_type": "stream",
     "text": [
      "F ist ein Minimalpolynom\n"
     ]
    }
   ],
   "source": [
    "# Test MinimalPolynoms\n",
    "# Überprüfe ob F ein Minimalpolynom ist\n",
    "if is_minimal_polynom(F):\n",
    "    print(\"F ist ein Minimalpolynom\")\n",
    "else:\n",
    "    print(\"F ist kein Minimalpolynom\")"
   ]
  },
  {
   "cell_type": "code",
   "execution_count": 7,
   "id": "586d328d",
   "metadata": {},
   "outputs": [
    {
     "name": "stdout",
     "output_type": "stream",
     "text": [
      "(X^9 + X^6 + X^5 + X^4 + 1)\n"
     ]
    }
   ],
   "source": [
    "# Test MultiplyPolynoms\n",
    "# F und G multiplizieren\n",
    "print(f\"{tuple_to_polynom(multiply_polynoms(F, G))}\")"
   ]
  },
  {
   "cell_type": "code",
   "execution_count": 8,
   "id": "7c20f54e",
   "metadata": {},
   "outputs": [
    {
     "name": "stdout",
     "output_type": "stream",
     "text": [
      "m = (X^8 + X^4 + X^3 + X^2 + 1), n = (X^5 + X^4 + X^3 + X^2 + 1)\n",
      "ggT(m, n) = (1)\n",
      "Rückrechnung ergibt:\n",
      "(1) = ((1))*m + ((X^3 + X^2))*n\n",
      "\n",
      "ggt: (1,), Bezout-Koeffizient zu m: (1,), Bezout-Koeffizient zu n: (1, 1, 0, 0)\n"
     ]
    }
   ],
   "source": [
    "# Test Euclid\n",
    "# Anwendung von Euklid-Algo (Bsp. aus der VL 4.4c)\n",
    "m = (1,0,0,0,1,1,1,0,1)\n",
    "n = (1,1,1,1,0,1)\n",
    "ggT, bkm, bkn = euclid(m, n)\n",
    "print(f\"ggt: {ggT}, Bezout-Koeffizient zu m: {bkm}, Bezout-Koeffizient zu n: {bkn}\")"
   ]
  },
  {
   "cell_type": "code",
   "execution_count": 9,
   "id": "5cf74f14",
   "metadata": {},
   "outputs": [
    {
     "name": "stdout",
     "output_type": "stream",
     "text": [
      "(0, 0, 1, 1, 0, 0, 1, 0)\n"
     ]
    }
   ],
   "source": [
    "# Test Reduce Polynom (nach Multiplikation)\n",
    "# H ist das Ergebnis einer Multiplikation, das mit dem Minimalpolynom H reduziert wird (Bsp. aus der VL 4.4c)\n",
    "H = (1,0,1,0,1,1,0,1,1,1,1,0,1,0)\n",
    "M = (1,0,0,0,1,1,1,0,1)\n",
    "print(f\"{reduce_product(H, M)}\")"
   ]
  },
  {
   "cell_type": "code",
   "execution_count": 10,
   "id": "0b85025f",
   "metadata": {
    "scrolled": true
   },
   "outputs": [
    {
     "name": "stdout",
     "output_type": "stream",
     "text": [
      "(1, 0, 0)\n",
      "(1, 0, 0)\n"
     ]
    }
   ],
   "source": [
    "# Test für beide Multiplikationen\n",
    "\n",
    "# Minimalpolynom -> Entspricht Relation a^3 = a+1\n",
    "M = (1,0,1,1)\n",
    "\n",
    "# Zwei Polynome (dürfen maximal l-1 lang sein, wenn l die Länge des Minimalpolynoms M ist)\n",
    "F = (1,0,1)\n",
    "G = (0,1,1)\n",
    "\n",
    "# Berechne das Produkt mit beiden Varianten\n",
    "print(f\"{reduce_product(multiply_polynoms(F, G), M)}\")\n",
    "print(f\"{alternative_multiplication(F, G, M)}\")"
   ]
  },
  {
   "cell_type": "code",
   "execution_count": 11,
   "id": "00bc4047-7237-47e1-a32b-a391fc3b820d",
   "metadata": {},
   "outputs": [
    {
     "name": "stdout",
     "output_type": "stream",
     "text": [
      "Minimalpolynom: True\n",
      "--------------\n",
      "Berechne F' und wende Euklidischen Algorithmus auf F und F' an. (m=F, n=F')\n",
      "m = (X^9 + X + 1), n = (X^8 + 1)\n",
      "ggT(m, n) = (1)\n",
      "Rückrechnung ergibt:\n",
      "(1) = ((1))*m + ((X))*n\n",
      "\n",
      "Berechne ggT von F und Polynomen der Form (X^q^l - X), für alle l von 1 bis d//2 (d ist Grad von F)\n",
      "Sollte eines dieser ggT´s ein nicht-triviales Polynom (≠1) sein, so teilt es F und somit ist F nicht irreduzibel\n",
      "m = (X^9 + X + 1), n = (X^2 + X)\n",
      "ggT(m, n) = (1)\n",
      "Rückrechnung ergibt:\n",
      "(1) = ((1))*m + ((X^7 + X^6 + X^5 + X^4 + X^3 + X^2 + X + 1))*n\n",
      "\n",
      "m = (X^9 + X + 1), n = (X^4 + X)\n",
      "ggT(m, n) = (1)\n",
      "Rückrechnung ergibt:\n",
      "(1) = ((X^3 + X^2 + 1))*m + ((X^8 + X^7 + X^4 + X + 1))*n\n",
      "\n",
      "m = (X^9 + X + 1), n = (X^8 + X)\n",
      "ggT(m, n) = (1)\n",
      "Rückrechnung ergibt:\n",
      "(1) = ((X^6 + X^5 + X^3 + X^2 + 1))*m + ((X^7 + X^6 + X^4 + X^3 + X + 1))*n\n",
      "\n",
      "Da kein ggT ein nicht-triviales Polynom ergab, ist F irreduzibel\n",
      "\n",
      "Irreduzierbar: True\n"
     ]
    }
   ],
   "source": [
    "# Beispielrechung für Minimalpolynom / Irreduzibles Polynom\n",
    "F = (1,0,0,0,0,0,0,0,1,1)\n",
    "print(f\"Minimalpolynom: {is_minimal_polynom(F)}\")\n",
    "print(\"--------------\")\n",
    "print(f\"Irreduzierbar: {cantor_zassenhaus(F)}\")"
   ]
  },
  {
   "cell_type": "code",
   "execution_count": 12,
   "id": "e4772071-c20c-4ab8-a8a1-40744dabdeef",
   "metadata": {},
   "outputs": [
    {
     "name": "stdout",
     "output_type": "stream",
     "text": [
      "Minimalpolynom: False\n",
      "--------------\n",
      "Berechne F' und wende Euklidischen Algorithmus auf F und F' an. (m=F, n=F')\n",
      "m = (X^6 + X^5 + X + 1), n = (X^4 + 1)\n",
      "ggT(m, n) = (X^2 + 1)\n",
      "Rückrechnung ergibt:\n",
      "(X^2 + 1) = ((1))*m + ((X^2 + X))*n\n",
      "\n",
      "-> Da ggT(m, n) = (X^2 + 1) ≠ 1, hat F einen nicht-trivialen Teiler, und ist demnach nicht irreduzibel\n",
      "\n",
      "Irreduzierbar: False\n"
     ]
    }
   ],
   "source": [
    "# Beispielrechung für kein Minimalpolynom / nicht Irreduzibles Polynom\n",
    "F = (1,1,0,0,0,1,1)\n",
    "print(f\"Minimalpolynom: {is_minimal_polynom(F)}\")\n",
    "print(\"--------------\")\n",
    "print(f\"Irreduzierbar: {cantor_zassenhaus(F)}\")"
   ]
  },
  {
   "cell_type": "code",
   "execution_count": 13,
   "id": "588a271b-963f-448e-b6be-6e6277f9cff7",
   "metadata": {},
   "outputs": [
    {
     "name": "stdout",
     "output_type": "stream",
     "text": [
      "22\n",
      "(X^21 + X^2 + 1)\n",
      "--------------\n",
      "Berechne F' und wende Euklidischen Algorithmus auf F und F' an. (m=F, n=F')\n",
      "m = (X^21 + X^2 + 1), n = (X^20)\n",
      "ggT(m, n) = (1)\n",
      "Rückrechnung ergibt:\n",
      "(1) = ((X^18 + X^16 + X^14 + X^12 + X^10 + X^8 + X^6 + X^4 + X^2 + 1))*m + ((X^19 + X^17 + X^15 + X^13 + X^11 + X^9 + X^7 + X^5 + X^3 + X + 1))*n\n",
      "\n",
      "Berechne ggT von F und Polynomen der Form (X^q^l - X), für alle l von 1 bis d//2 (d ist Grad von F)\n",
      "Sollte eines dieser ggT´s ein nicht-triviales Polynom (≠1) sein, so teilt es F und somit ist F nicht irreduzibel\n",
      "m = (X^21 + X^2 + 1), n = (X^2 + X)\n",
      "ggT(m, n) = (1)\n",
      "Rückrechnung ergibt:\n",
      "(1) = ((1))*m + ((X^19 + X^18 + X^17 + X^16 + X^15 + X^14 + X^13 + X^12 + X^11 + X^10 + X^9 + X^8 + X^7 + X^6 + X^5 + X^4 + X^3 + X^2 + X))*n\n",
      "\n",
      "m = (X^21 + X^2 + 1), n = (X^4 + X)\n",
      "ggT(m, n) = (1)\n",
      "Rückrechnung ergibt:\n",
      "(1) = ((X^3 + X + 1))*m + ((X^20 + X^18 + X^15 + X^12 + X^9 + X^6 + X^3 + X + 1))*n\n",
      "\n",
      "m = (X^21 + X^2 + 1), n = (X^8 + X)\n",
      "ggT(m, n) = (1)\n",
      "Rückrechnung ergibt:\n",
      "(1) = ((X^7 + X^5 + 1))*m + ((X^20 + X^18 + X^11 + X^4 + X))*n\n",
      "\n",
      "m = (X^21 + X^2 + 1), n = (X^16 + X)\n",
      "ggT(m, n) = (1)\n",
      "Rückrechnung ergibt:\n",
      "(1) = ((X^14 + X^13 + X^12 + X^11 + X^10 + X^9 + X^4 + X^3 + 1))*m + ((X^19 + X^18 + X^17 + X^16 + X^15 + X^14 + X^9 + X^8 + X^5 + X^4 + X^3 + X^2 + X))*n\n",
      "\n",
      "m = (X^21 + X^2 + 1), n = (X^32 + X)\n",
      "ggT(m, n) = (1)\n",
      "Rückrechnung ergibt:\n",
      "(1) = ((X^30 + X^29 + X^28 + X^27 + X^26 + X^25 + X^22 + X^21 + X^20 + X^17 + X^16 + X^13 + X^11 + X^10 + X^5 + X^4 + X^3 + X^2 + 1))*m + ((X^19 + X^18 + X^17 + X^16 + X^15 + X^14 + X^11 + X^10 + X^9 + X^6 + X^5 + X^2))*n\n",
      "\n",
      "m = (X^21 + X^2 + 1), n = (X^64 + X)\n",
      "ggT(m, n) = (1)\n",
      "Rückrechnung ergibt:\n",
      "(1) = ((X^63 + X^62 + X^60 + X^57 + X^56 + X^55 + X^54 + X^51 + X^50 + X^49 + X^48 + X^45 + X^44 + X^43 + X^42 + X^39 + X^38 + X^37 + X^34 + X^33 + X^32 + X^31 + X^28 + X^27 + X^26 + X^25 + X^22 + X^21 + X^20 + X^19 + X^17 + X^16 + X^15 + X^14 + X^11 + X^10 + X^9 + X^8 + X^5 + X^4 + X^3 + X^2 + 1))*m + ((X^20 + X^19 + X^17 + X^14 + X^13 + X^12 + X^11 + X^8 + X^7 + X^6 + X^5 + X^2))*n\n",
      "\n",
      "m = (X^21 + X^2 + 1), n = (X^128 + X)\n",
      "ggT(m, n) = (1)\n",
      "Rückrechnung ergibt:\n",
      "(1) = ((X^127 + X^123 + X^121 + X^118 + X^115 + X^114 + X^113 + X^110 + X^108 + X^107 + X^106 + X^104 + X^100 + X^99 + X^97 + X^96 + X^95 + X^93 + X^92 + X^91 + X^88 + X^86 + X^83 + X^81 + X^80 + X^79 + X^77 + X^75 + X^73 + X^71 + X^70 + X^69 + X^65 + X^64 + X^61 + X^59 + X^51 + X^49 + X^48 + X^46 + X^45 + X^44 + X^43 + X^42 + X^38 + X^32 + X^29 + X^28 + X^26 + X^22 + X^21 + X^19 + X^17 + X^13 + X^11 + X^10 + X^9 + X^8 + X^5 + X^3 + X^2 + X + 1))*m + ((X^20 + X^16 + X^14 + X^11 + X^8 + X^7 + X^6 + X^3 + 1))*n\n",
      "\n",
      "m = (X^21 + X^2 + 1), n = (X^256 + X)\n",
      "ggT(m, n) = (1)\n",
      "Rückrechnung ergibt:\n",
      "(1) = ((X^255 + X^254 + X^251 + X^242 + X^241 + X^239 + X^237 + X^234 + X^233 + X^232 + X^230 + X^223 + X^222 + X^221 + X^216 + X^215 + X^214 + X^212 + X^209 + X^204 + X^203 + X^201 + X^200 + X^197 + X^196 + X^194 + X^191 + X^190 + X^188 + X^185 + X^184 + X^183 + X^181 + X^180 + X^179 + X^178 + X^177 + X^176 + X^173 + X^172 + X^171 + X^170 + X^167 + X^166 + X^165 + X^163 + X^161 + X^156 + X^155 + X^154 + X^153 + X^150 + X^149 + X^148 + X^147 + X^145 + X^140 + X^137 + X^136 + X^133 + X^132 + X^131 + X^130 + X^127 + X^124 + X^121 + X^119 + X^118 + X^117 + X^116 + X^115 + X^114 + X^113 + X^110 + X^109 + X^108 + X^106 + X^105 + X^103 + X^102 + X^99 + X^93 + X^92 + X^91 + X^90 + X^88 + X^86 + X^85 + X^83 + X^82 + X^81 + X^80 + X^78 + X^74 + X^73 + X^70 + X^66 + X^65 + X^63 + X^60 + X^57 + X^55 + X^54 + X^53 + X^52 + X^51 + X^49 + X^47 + X^46 + X^45 + X^42 + X^41 + X^39 + X^38 + X^35 + X^31 + X^27 + X^25 + X^24 + X^23 + X^22 + X^21 + X^19 + X^18 + X^17 + X^16 + X^14 + X^12 + X^10 + X^8 + X^5 + X + 1))*m + ((X^20 + X^19 + X^16 + X^7 + X^6 + X^4 + X^2 + X + 1))*n\n",
      "\n",
      "m = (X^21 + X^2 + 1), n = (X^512 + X)\n",
      "ggT(m, n) = (1)\n",
      "Rückrechnung ergibt:\n",
      "(1) = ((X^510 + X^509 + X^507 + X^504 + X^494 + X^493 + X^492 + X^490 + X^489 + X^486 + X^485 + X^483 + X^475 + X^474 + X^472 + X^470 + X^469 + X^468 + X^467 + X^466 + X^465 + X^462 + X^456 + X^455 + X^454 + X^450 + X^445 + X^444 + X^443 + X^441 + X^437 + X^436 + X^434 + X^433 + X^431 + X^429 + X^426 + X^425 + X^423 + X^420 + X^418 + X^417 + X^416 + X^414 + X^413 + X^408 + X^407 + X^406 + X^405 + X^402 + X^401 + X^398 + X^396 + X^394 + X^393 + X^392 + X^389 + X^388 + X^385 + X^384 + X^383 + X^382 + X^381 + X^380 + X^379 + X^374 + X^372 + X^371 + X^370 + X^369 + X^368 + X^367 + X^366 + X^365 + X^359 + X^358 + X^355 + X^352 + X^345 + X^344 + X^340 + X^339 + X^338 + X^337 + X^336 + X^334 + X^333 + X^331 + X^326 + X^325 + X^324 + X^323 + X^321 + X^320 + X^316 + X^314 + X^313 + X^310 + X^307 + X^306 + X^303 + X^301 + X^300 + X^299 + X^297 + X^294 + X^293 + X^292 + X^291 + X^289 + X^288 + X^287 + X^286 + X^285 + X^284 + X^281 + X^279 + X^276 + X^275 + X^274 + X^271 + X^269 + X^264 + X^263 + X^262 + X^258 + X^257 + X^256 + X^254 + X^253 + X^252 + X^248 + X^245 + X^244 + X^242 + X^241 + X^239 + X^238 + X^236 + X^234 + X^232 + X^231 + X^229 + X^227 + X^226 + X^225 + X^224 + X^222 + X^221 + X^219 + X^218 + X^212 + X^211 + X^207 + X^204 + X^202 + X^201 + X^199 + X^198 + X^197 + X^193 + X^192 + X^191 + X^190 + X^188 + X^186 + X^185 + X^182 + X^181 + X^179 + X^177 + X^176 + X^174 + X^173 + X^170 + X^166 + X^165 + X^164 + X^163 + X^162 + X^161 + X^157 + X^156 + X^154 + X^153 + X^152 + X^151 + X^149 + X^147 + X^146 + X^141 + X^140 + X^138 + X^137 + X^136 + X^134 + X^131 + X^127 + X^126 + X^125 + X^122 + X^121 + X^120 + X^118 + X^116 + X^113 + X^112 + X^110 + X^108 + X^107 + X^105 + X^104 + X^103 + X^102 + X^100 + X^95 + X^94 + X^93 + X^92 + X^88 + X^87 + X^85 + X^82 + X^79 + X^76 + X^75 + X^72 + X^71 + X^69 + X^68 + X^67 + X^64 + X^63 + X^61 + X^60 + X^58 + X^57 + X^56 + X^55 + X^54 + X^53 + X^52 + X^51 + X^49 + X^47 + X^46 + X^45 + X^44 + X^43 + X^41 + X^40 + X^38 + X^31 + X^27 + X^23 + X^21 + X^20 + X^17 + X^12 + X^10 + X^8 + X^6 + X^4 + X + 1))*m + ((X^19 + X^18 + X^16 + X^13 + X^3 + X^2 + X + 1))*n\n",
      "\n",
      "Da kein ggT ein nicht-triviales Polynom ergab, ist F irreduzibel\n",
      "\n",
      "Irreduzierbar: True\n"
     ]
    }
   ],
   "source": [
    "# CZH Beispiel für hohe Grade\n",
    "F = (1,0,0,0,0,0,0,0,0,0,0,0,0,0,0,0,0,0,0,1,0,1)\n",
    "#F = (1,0,0,0,0,0,0,0,0,1,0,0,0,0,0,0,0,0,0,0,0,0,0,0,0,0,0,0,0,0,0,0,0,0,0,0,0,0,0,0,1)\n",
    "\n",
    "print(f\"{len(F)}\")\n",
    "print(f\"{tuple_to_polynom(F)}\")\n",
    "print(\"--------------\")\n",
    "print(f\"Irreduzierbar: {cantor_zassenhaus(F)}\")"
   ]
  }
 ],
 "metadata": {
  "kernelspec": {
   "display_name": "Python 3 (ipykernel)",
   "language": "python",
   "name": "python3"
  },
  "language_info": {
   "codemirror_mode": {
    "name": "ipython",
    "version": 3
   },
   "file_extension": ".py",
   "mimetype": "text/x-python",
   "name": "python",
   "nbconvert_exporter": "python",
   "pygments_lexer": "ipython3",
   "version": "3.12.3"
  }
 },
 "nbformat": 4,
 "nbformat_minor": 5
}
