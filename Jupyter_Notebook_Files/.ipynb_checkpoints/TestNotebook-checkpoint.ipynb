{
 "cells": [
  {
   "cell_type": "code",
   "execution_count": 1,
   "id": "3948c4d2",
   "metadata": {},
   "outputs": [],
   "source": [
    "%run ./Functions/TupleToPolynom.ipynb\n",
    "%run ./Functions/AddPolynoms.ipynb\n",
    "%run ./Functions/PolynomDivision.ipynb\n",
    "%run ./Functions/MinimalPolynoms.ipynb\n",
    "%run ./Functions/MultiplyPolynoms.ipynb\n",
    "%run ./Functions/Euclid.ipynb\n",
    "%run ./Functions/AlternativeMultiplication.ipynb\n",
    "%run ./Functions/AuxiliaryFunctions.ipynb\n",
    "%run ./Functions/CantorZassenhaus.ipynb"
   ]
  },
  {
   "cell_type": "code",
   "execution_count": 2,
   "id": "501f3c40",
   "metadata": {},
   "outputs": [],
   "source": [
    "# F und G stellen F(X) und G(X) als binäres Tupel dar\n",
    "F = (1,1,0,0,1,0,1,1)\n",
    "G = (1,1,1)"
   ]
  },
  {
   "cell_type": "code",
   "execution_count": 3,
   "id": "0091cd45",
   "metadata": {},
   "outputs": [
    {
     "name": "stdout",
     "output_type": "stream",
     "text": [
      "F(X) = (X^7 + X^6 + X^3 + X + 1)\n",
      "G(X) = (X^2 + X + 1)\n"
     ]
    }
   ],
   "source": [
    "# Test TupleToPolynom\n",
    "# F und G als Polynom ausgeben\n",
    "print(f\"F(X) = {tuple_to_polynom(F)}\")\n",
    "print(f\"G(X) = {tuple_to_polynom(G)}\")"
   ]
  },
  {
   "cell_type": "code",
   "execution_count": 4,
   "id": "36598413",
   "metadata": {},
   "outputs": [
    {
     "name": "stdout",
     "output_type": "stream",
     "text": [
      "F(X) + G(X) = (X^7 + X^6 + X^3 + X^2)\n"
     ]
    }
   ],
   "source": [
    "# Test AddPolynoms\n",
    "# F und G Addieren\n",
    "print(f\"F(X) + G(X) = {tuple_to_polynom(add_polynoms(F,G))}\")"
   ]
  },
  {
   "cell_type": "code",
   "execution_count": 5,
   "id": "e9d477fc",
   "metadata": {
    "scrolled": true
   },
   "outputs": [
    {
     "name": "stdout",
     "output_type": "stream",
     "text": [
      "Lösung: (X^5 + X^3 + X^2 + X) | Rest: (1)\n"
     ]
    }
   ],
   "source": [
    "# Test PolynomDivision \n",
    "# Teile das Polynom F durch G\n",
    "Lösung, Rest = polynom_division(F, G)\n",
    "print(f\"Lösung: {tuple_to_polynom(Lösung)} | Rest: {tuple_to_polynom(Rest)}\")"
   ]
  },
  {
   "cell_type": "code",
   "execution_count": 6,
   "id": "39e20877",
   "metadata": {},
   "outputs": [
    {
     "name": "stdout",
     "output_type": "stream",
     "text": [
      "F ist ein Minimalpolynom\n"
     ]
    }
   ],
   "source": [
    "# Test MinimalPolynoms\n",
    "# Überprüfe ob F ein Minimalpolynom ist\n",
    "if is_minimal_polynom(F):\n",
    "    print(\"F ist ein Minimalpolynom\")\n",
    "else:\n",
    "    print(\"F ist kein Minimalpolynom\")"
   ]
  },
  {
   "cell_type": "code",
   "execution_count": 7,
   "id": "586d328d",
   "metadata": {},
   "outputs": [
    {
     "name": "stdout",
     "output_type": "stream",
     "text": [
      "(X^9 + X^6 + X^5 + X^4 + 1)\n"
     ]
    }
   ],
   "source": [
    "# Test MultiplyPolynoms\n",
    "# F und G multiplizieren\n",
    "print(f\"{tuple_to_polynom(multiply_polynoms(F, G))}\")"
   ]
  },
  {
   "cell_type": "code",
   "execution_count": 8,
   "id": "7c20f54e",
   "metadata": {},
   "outputs": [
    {
     "name": "stdout",
     "output_type": "stream",
     "text": [
      "m = (X^8 + X^4 + X^3 + X^2 + 1), n = (X^5 + X^4 + X^3 + X^2 + 1)\n",
      "ggT(m, n) = (1)\n",
      "Rückrechnung ergibt:\n",
      "(1) = ((1))*m + ((X^3 + X^2))*n\n",
      "\n",
      "ggt: (1,), Bezout-Koeffizient zu m: (1,), Bezout-Koeffizient zu n: (1, 1, 0, 0)\n"
     ]
    }
   ],
   "source": [
    "# Test Euclid\n",
    "# Anwendung von Euklid-Algo (Bsp. aus der VL 4.4c)\n",
    "m = (1,0,0,0,1,1,1,0,1)\n",
    "n = (1,1,1,1,0,1)\n",
    "ggT, bkm, bkn = euclid(m, n)\n",
    "print(f\"ggt: {ggT}, Bezout-Koeffizient zu m: {bkm}, Bezout-Koeffizient zu n: {bkn}\")"
   ]
  },
  {
   "cell_type": "code",
   "execution_count": 9,
   "id": "5cf74f14",
   "metadata": {},
   "outputs": [
    {
     "name": "stdout",
     "output_type": "stream",
     "text": [
      "(0, 0, 1, 1, 0, 0, 1, 0)\n"
     ]
    }
   ],
   "source": [
    "# Test Reduce Polynom (nach Multiplikation)\n",
    "# H ist das Ergebnis einer Multiplikation, das mit dem Minimalpolynom H reduziert wird (Bsp. aus der VL 4.4c)\n",
    "H = (1,0,1,0,1,1,0,1,1,1,1,0,1,0)\n",
    "M = (1,0,0,0,1,1,1,0,1)\n",
    "print(f\"{reduce_product(H, M)}\")"
   ]
  },
  {
   "cell_type": "code",
   "execution_count": 10,
   "id": "0b85025f",
   "metadata": {
    "scrolled": true
   },
   "outputs": [
    {
     "name": "stdout",
     "output_type": "stream",
     "text": [
      "(1, 0, 0)\n",
      "(1, 0, 0)\n"
     ]
    }
   ],
   "source": [
    "# Test für beide Multiplikationen\n",
    "\n",
    "# Minimalpolynom -> Entspricht Relation a^3 = a+1\n",
    "M = (1,0,1,1)\n",
    "\n",
    "# Zwei Polynome (dürfen maximal l-1 lang sein, wenn l die Länge des Minimalpolynoms M ist)\n",
    "F = (1,0,1)\n",
    "G = (0,1,1)\n",
    "\n",
    "# Berechne das Produkt mit beiden Varianten\n",
    "print(f\"{reduce_product(multiply_polynoms(F, G), M)}\")\n",
    "print(f\"{alternative_multiplication(F, G, M)}\")"
   ]
  },
  {
   "cell_type": "code",
   "execution_count": 11,
   "id": "00bc4047-7237-47e1-a32b-a391fc3b820d",
   "metadata": {},
   "outputs": [
    {
     "name": "stdout",
     "output_type": "stream",
     "text": [
      "Minimalpolynom: True\n",
      "--------------\n",
      "Berechne F' und wende Euklidischen Algorithmus auf F und F' an. (m=F, n=F')\n",
      "m = (X^9 + X + 1), n = (X^8 + 1)\n",
      "ggT(m, n) = (1)\n",
      "Rückrechnung ergibt:\n",
      "(1) = ((1))*m + ((X))*n\n",
      "\n",
      "Berechne ggT von F und Polynomen der Form (X^q^l - X), für alle l von 1 bis d//2 (d ist Grad von F)\n",
      "Sollte eines dieser ggT´s ein nicht-triviales Polynom (≠1) sein, so teilt es F und somit ist F nicht irreduzibel\n",
      "m = (X^9 + X + 1), n = (X^2 + X)\n",
      "ggT(m, n) = (1)\n",
      "Rückrechnung ergibt:\n",
      "(1) = ((1))*m + ((X^7 + X^6 + X^5 + X^4 + X^3 + X^2 + X + 1))*n\n",
      "\n",
      "m = (X^9 + X + 1), n = (X^4 + X)\n",
      "ggT(m, n) = (1)\n",
      "Rückrechnung ergibt:\n",
      "(1) = ((X^3 + X^2 + 1))*m + ((X^8 + X^7 + X^4 + X + 1))*n\n",
      "\n",
      "m = (X^9 + X + 1), n = (X^8 + X)\n",
      "ggT(m, n) = (1)\n",
      "Rückrechnung ergibt:\n",
      "(1) = ((X^6 + X^5 + X^3 + X^2 + 1))*m + ((X^7 + X^6 + X^4 + X^3 + X + 1))*n\n",
      "\n",
      "Da kein ggT ein nicht-triviales Polynom ergab, ist F irreduzibel\n",
      "\n",
      "Irreduzierbar: True\n"
     ]
    }
   ],
   "source": [
    "# Beispielrechung für Minimalpolynom / Irreduzibles Polynom\n",
    "F = (1,0,0,0,0,0,0,0,1,1)\n",
    "print(f\"Minimalpolynom: {is_minimal_polynom(F)}\")\n",
    "print(\"--------------\")\n",
    "print(f\"Irreduzierbar: {cantor_zassenhaus(F)}\")"
   ]
  },
  {
   "cell_type": "code",
   "execution_count": 12,
   "id": "e4772071-c20c-4ab8-a8a1-40744dabdeef",
   "metadata": {},
   "outputs": [
    {
     "name": "stdout",
     "output_type": "stream",
     "text": [
      "Minimalpolynom: False\n",
      "--------------\n",
      "Berechne F' und wende Euklidischen Algorithmus auf F und F' an. (m=F, n=F')\n",
      "m = (X^6 + X^5 + X + 1), n = (X^4 + 1)\n",
      "ggT(m, n) = (X^2 + 1)\n",
      "Rückrechnung ergibt:\n",
      "(X^2 + 1) = ((1))*m + ((X^2 + X))*n\n",
      "\n",
      "-> Da ggT(m, n) = (X^2 + 1) ≠ 1, hat F einen nicht-trivialen Teiler, und ist demnach nicht irreduzibel\n",
      "\n",
      "Irreduzierbar: False\n"
     ]
    }
   ],
   "source": [
    "# Beispielrechung für kein Minimalpolynom / nicht Irreduzibles Polynom\n",
    "F = (1,1,0,0,0,1,1)\n",
    "print(f\"Minimalpolynom: {is_minimal_polynom(F)}\")\n",
    "print(\"--------------\")\n",
    "print(f\"Irreduzierbar: {cantor_zassenhaus(F)}\")"
   ]
  }
 ],
 "metadata": {
  "kernelspec": {
   "display_name": "Python 3 (ipykernel)",
   "language": "python",
   "name": "python3"
  },
  "language_info": {
   "codemirror_mode": {
    "name": "ipython",
    "version": 3
   },
   "file_extension": ".py",
   "mimetype": "text/x-python",
   "name": "python",
   "nbconvert_exporter": "python",
   "pygments_lexer": "ipython3",
   "version": "3.12.3"
  }
 },
 "nbformat": 4,
 "nbformat_minor": 5
}
