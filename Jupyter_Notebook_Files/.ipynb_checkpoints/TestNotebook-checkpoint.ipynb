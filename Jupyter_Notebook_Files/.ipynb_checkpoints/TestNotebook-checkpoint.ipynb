{
 "cells": [
  {
   "cell_type": "code",
   "execution_count": 1,
   "id": "3948c4d2",
   "metadata": {},
   "outputs": [],
   "source": [
    "%run ./Functions/TupleToPolynom.ipynb\n",
    "%run ./Functions/AddPolynoms.ipynb\n",
    "%run ./Functions/PolynomDivision.ipynb\n",
    "%run ./Functions/MinimalPolynoms.ipynb\n",
    "%run ./Functions/MultiplyPolynoms.ipynb\n",
    "%run ./Functions/Euclid.ipynb\n",
    "%run ./Functions/AlternativeMultiplication.ipynb"
   ]
  },
  {
   "cell_type": "code",
   "execution_count": 2,
   "id": "501f3c40",
   "metadata": {},
   "outputs": [],
   "source": [
    "# F und G stellen F(X) und G(X) als binäres Tupel dar\n",
    "F = (1,1,0,0,1,0,1,1)\n",
    "G = (1,1,1)"
   ]
  },
  {
   "cell_type": "code",
   "execution_count": 3,
   "id": "0091cd45",
   "metadata": {},
   "outputs": [
    {
     "name": "stdout",
     "output_type": "stream",
     "text": [
      "F(X) = X^7 + X^6 + X^3 + X + 1\n",
      "G(X) = X^2 + X + 1\n"
     ]
    }
   ],
   "source": [
    "# Test TupleToPolynom\n",
    "# F und G als Polynom ausgeben\n",
    "print(f\"F(X) = {tuple_to_polynom(F)}\")\n",
    "print(f\"G(X) = {tuple_to_polynom(G)}\")"
   ]
  },
  {
   "cell_type": "code",
   "execution_count": 4,
   "id": "36598413",
   "metadata": {},
   "outputs": [
    {
     "name": "stdout",
     "output_type": "stream",
     "text": [
      "F(X) + G(X) = X^7 + X^6 + X^3 + X^2\n"
     ]
    }
   ],
   "source": [
    "# Test AddPolynoms\n",
    "# F und G Addieren\n",
    "print(f\"F(X) + G(X) = {tuple_to_polynom(add_polynoms(F,G))}\")"
   ]
  },
  {
   "cell_type": "code",
   "execution_count": 5,
   "id": "e9d477fc",
   "metadata": {
    "scrolled": true
   },
   "outputs": [
    {
     "name": "stdout",
     "output_type": "stream",
     "text": [
      "Lösung: X^5 + X^3 + X^2 + X | Rest: 1\n"
     ]
    }
   ],
   "source": [
    "# Test PolynomDivision \n",
    "# Teile das Polynom F durch G\n",
    "Lösung, Rest = polynom_division(F, G)\n",
    "print(f\"Lösung: {tuple_to_polynom(Lösung)} | Rest: {tuple_to_polynom(Rest)}\")"
   ]
  },
  {
   "cell_type": "code",
   "execution_count": 6,
   "id": "39e20877",
   "metadata": {},
   "outputs": [
    {
     "name": "stdout",
     "output_type": "stream",
     "text": [
      "F ist ein Minimalpolynom\n"
     ]
    }
   ],
   "source": [
    "# Test MinimalPolynoms\n",
    "# Überprüfe ob F ein Minimalpolynom ist\n",
    "if is_minimal_polynom(F):\n",
    "    print(\"F ist ein Minimalpolynom\")\n",
    "else:\n",
    "    print(\"F ist kein Minimalpolynom\")"
   ]
  },
  {
   "cell_type": "code",
   "execution_count": 7,
   "id": "586d328d",
   "metadata": {},
   "outputs": [
    {
     "name": "stdout",
     "output_type": "stream",
     "text": [
      "X^9 + X^6 + X^5 + X^4 + 1\n"
     ]
    }
   ],
   "source": [
    "# Test MultiplyPolynoms\n",
    "# F und G multiplizieren\n",
    "print(f\"{tuple_to_polynom(multiply_polynoms(F, G))}\")"
   ]
  },
  {
   "cell_type": "code",
   "execution_count": 8,
   "id": "7c20f54e",
   "metadata": {},
   "outputs": [
    {
     "name": "stdout",
     "output_type": "stream",
     "text": [
      "1 = (1)*m + (X^3 + X^2)*n\n",
      "ggt: (1,), Bezout-Koeffizient zu m: (1,), Bezout-Koeffizient zu n: (1, 1, 0, 0)\n"
     ]
    }
   ],
   "source": [
    "# Test Euclid\n",
    "# Anwendung von Euklid-Algo (Bsp. aus der VL 4.4c)\n",
    "m = (1,0,0,0,1,1,1,0,1)\n",
    "n = (1,1,1,1,0,1)\n",
    "ggT, bkm, bkn = euclid(m, n)\n",
    "print(f\"ggt: {ggT}, Bezout-Koeffizient zu m: {bkm}, Bezout-Koeffizient zu n: {bkn}\")"
   ]
  },
  {
   "cell_type": "code",
   "execution_count": 9,
   "id": "5cf74f14",
   "metadata": {},
   "outputs": [
    {
     "name": "stdout",
     "output_type": "stream",
     "text": [
      "(0, 0, 1, 1, 0, 0, 1, 0)\n"
     ]
    }
   ],
   "source": [
    "# Test Reduce Polynom (nach Multiplikation)\n",
    "# H ist das Ergebnis einer Multiplikation, das mit dem Minimalpolynom H reduziert wird (Bsp. aus der VL 4.4c)\n",
    "H = (1,0,1,0,1,1,0,1,1,1,1,0,1,0)\n",
    "M = (1,0,0,0,1,1,1,0,1)\n",
    "print(f\"{reduce_product(H, M)}\")"
   ]
  },
  {
   "cell_type": "code",
   "execution_count": 10,
   "id": "0b85025f",
   "metadata": {},
   "outputs": [
    {
     "name": "stdout",
     "output_type": "stream",
     "text": [
      "(1, 0, 0)\n",
      "(1, 0, 0)\n"
     ]
    }
   ],
   "source": [
    "# Test für beide Multiplikationen\n",
    "\n",
    "# Minimalpolynom -> Entspricht Relation a^3 = a+1\n",
    "M = (1,0,1,1)\n",
    "\n",
    "# Zwei Polynome (dürfen maximal l-1 lang sein, wenn l die Länge des Minimalpolynoms M ist)\n",
    "F = (1,0,1)\n",
    "G = (0,1,1)\n",
    "\n",
    "# Berechne das Produkt mit beiden Varianten\n",
    "print(f\"{reduce_product(multiply_polynoms(F, G), M)}\")\n",
    "print(f\"{alternative_multiplication(F, G, M)}\")"
   ]
  }
 ],
 "metadata": {
  "kernelspec": {
   "display_name": "Python 3 (ipykernel)",
   "language": "python",
   "name": "python3"
  },
  "language_info": {
   "codemirror_mode": {
    "name": "ipython",
    "version": 3
   },
   "file_extension": ".py",
   "mimetype": "text/x-python",
   "name": "python",
   "nbconvert_exporter": "python",
   "pygments_lexer": "ipython3",
   "version": "3.12.7"
  }
 },
 "nbformat": 4,
 "nbformat_minor": 5
}
