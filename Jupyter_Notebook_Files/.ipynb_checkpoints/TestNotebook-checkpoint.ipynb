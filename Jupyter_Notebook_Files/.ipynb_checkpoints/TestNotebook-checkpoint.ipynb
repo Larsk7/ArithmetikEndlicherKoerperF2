{
 "cells": [
  {
   "cell_type": "code",
   "execution_count": 1,
   "id": "3948c4d2",
   "metadata": {},
   "outputs": [],
   "source": [
    "%run ./Functions/TupleToPolynom.ipynb\n",
    "%run ./Functions/AddPolynoms.ipynb\n",
    "%run ./Functions/PolynomDivision.ipynb\n",
    "%run ./Functions/MinimalPolynoms.ipynb\n",
    "%run ./Functions/MultiplyPolynoms.ipynb\n",
    "%run ./Functions/Euclid.ipynb\n",
    "%run ./Functions/AlternativeMultiplication.ipynb\n",
    "%run ./Functions/AuxiliaryFunctions.ipynb\n",
    "%run ./Functions/CantorZassenhaus.ipynb"
   ]
  },
  {
   "cell_type": "code",
   "execution_count": 2,
   "id": "501f3c40",
   "metadata": {},
   "outputs": [],
   "source": [
    "# F und G stellen F(X) und G(X) als binäres Tupel dar\n",
    "F = (1,0,1,0,1,1)\n",
    "G = (1,1,1)\n",
    "M = (1,0,0,0,0,1,1)"
   ]
  },
  {
   "cell_type": "code",
   "execution_count": 3,
   "id": "0091cd45",
   "metadata": {},
   "outputs": [
    {
     "name": "stdout",
     "output_type": "stream",
     "text": [
      "F(X) = (X^5 + X^3 + X + 1)\n",
      "G(X) = (X^2 + X + 1)\n"
     ]
    }
   ],
   "source": [
    "# Test TupleToPolynom\n",
    "print(f\"F(X) = {tuple_to_polynom(F)}\")\n",
    "print(f\"G(X) = {tuple_to_polynom(G)}\")"
   ]
  },
  {
   "cell_type": "code",
   "execution_count": 4,
   "id": "36598413",
   "metadata": {},
   "outputs": [
    {
     "name": "stdout",
     "output_type": "stream",
     "text": [
      "F(X) + G(X) = (X^5 + X^3 + X^2)\n"
     ]
    }
   ],
   "source": [
    "# Test AddPolynoms\n",
    "print(f\"F(X) + G(X) = {tuple_to_polynom(add_polynoms(F,G))}\")"
   ]
  },
  {
   "cell_type": "code",
   "execution_count": 5,
   "id": "e9d477fc",
   "metadata": {
    "scrolled": true
   },
   "outputs": [
    {
     "name": "stdout",
     "output_type": "stream",
     "text": [
      "Lösung: (X^3 + X^2 + X) | Rest: (1)\n"
     ]
    }
   ],
   "source": [
    "# Test PolynomDivision \n",
    "Lösung, Rest = polynom_division(F, G)\n",
    "print(f\"Lösung: {tuple_to_polynom(Lösung)} | Rest: {tuple_to_polynom(Rest)}\")"
   ]
  },
  {
   "cell_type": "code",
   "execution_count": 6,
   "id": "39e20877",
   "metadata": {},
   "outputs": [
    {
     "name": "stdout",
     "output_type": "stream",
     "text": [
      "True\n"
     ]
    }
   ],
   "source": [
    "# Test MinimalPolynoms\n",
    "print(is_minpol(M))"
   ]
  },
  {
   "cell_type": "code",
   "execution_count": 7,
   "id": "586d328d",
   "metadata": {},
   "outputs": [
    {
     "name": "stdout",
     "output_type": "stream",
     "text": [
      "(X^7 + X^6 + X^4 + 1)\n",
      "(X^4 + X^2)\n"
     ]
    }
   ],
   "source": [
    "# Test MultiplyPolynoms und ReducePolynoms\n",
    "print(f\"{tuple_to_polynom(multiply_polynoms(F, G))}\")\n",
    "print(f\"{tuple_to_polynom(reduce_product(multiply_polynoms(F,G),M))}\")"
   ]
  },
  {
   "cell_type": "code",
   "execution_count": 8,
   "id": "7c20f54e",
   "metadata": {},
   "outputs": [
    {
     "name": "stdout",
     "output_type": "stream",
     "text": [
      "ggT = (1), bkF = (1), bkG = (X^3 + X^2 + X)\n"
     ]
    }
   ],
   "source": [
    "# Test Euclid\n",
    "ggT, bkm, bkn = euclid(F, G)\n",
    "print(f\"ggT = {tuple_to_polynom(ggT)}, bkF = {tuple_to_polynom(bkm)}, bkG = {tuple_to_polynom(bkn)}\")"
   ]
  },
  {
   "cell_type": "code",
   "execution_count": 9,
   "id": "0b85025f",
   "metadata": {
    "scrolled": true
   },
   "outputs": [
    {
     "name": "stdout",
     "output_type": "stream",
     "text": [
      "(X^4 + X^2)\n"
     ]
    }
   ],
   "source": [
    "# Test für alternative Multiplikation\n",
    "print(f\"{(tuple_to_polynom(alternative_multiplication(F, G, M)))}\")"
   ]
  },
  {
   "cell_type": "code",
   "execution_count": 10,
   "id": "00bc4047-7237-47e1-a32b-a391fc3b820d",
   "metadata": {},
   "outputs": [
    {
     "name": "stdout",
     "output_type": "stream",
     "text": [
      "(X^5 + X^2 + 1)\n",
      "Minimalpolynom: True\n",
      "Cantor-Zassenhaus: True\n"
     ]
    }
   ],
   "source": [
    "# Beispielrechung für ein Minimalpolynom / Irreduzibles Polynom\n",
    "F = (1,0,0,1,0,1)\n",
    "print(f\"{tuple_to_polynom(F)}\")\n",
    "print(f\"Minimalpolynom: {is_minpol(F)}\")\n",
    "print(f\"Cantor-Zassenhaus: {cantor_zassenhaus(F)}\")"
   ]
  },
  {
   "cell_type": "code",
   "execution_count": 11,
   "id": "ab752e40-3d2f-4cdd-b0ce-a22c4b47095a",
   "metadata": {},
   "outputs": [
    {
     "name": "stdout",
     "output_type": "stream",
     "text": [
      "(X^6 + X^5 + X + 1)\n",
      "Minimalpolynom: False\n",
      "Irreduzierbar: False\n"
     ]
    }
   ],
   "source": [
    "# Beispielrechung für KEIN Minimalpolynom / nicht Irreduzibles Polynom\n",
    "F = (1,1,0,0,0,1,1)\n",
    "print(f\"{tuple_to_polynom(F)}\")\n",
    "print(f\"Minimalpolynom: {is_minpol(F)}\")\n",
    "print(f\"Irreduzierbar: {cantor_zassenhaus(F)}\")"
   ]
  },
  {
   "cell_type": "code",
   "execution_count": 12,
   "id": "ad35cbbf-73f0-4d62-bdb0-34d595880e13",
   "metadata": {},
   "outputs": [
    {
     "name": "stdout",
     "output_type": "stream",
     "text": [
      "(X^21 + X^2 + 1)\n",
      "Cantor-Zassenhaus: True\n",
      "(X^22 + X + 1)\n",
      "Cantor-Zassenhaus: True\n",
      "(X^23 + X^5 + 1)\n",
      "Cantor-Zassenhaus: True\n",
      "(X^24 + X^4 + X^3 + X + 1)\n",
      "Cantor-Zassenhaus: True\n",
      "(X^25 + X^3 + 1)\n",
      "Cantor-Zassenhaus: True\n",
      "(X^30 + X + 1)\n",
      "Cantor-Zassenhaus: True\n"
     ]
    }
   ],
   "source": [
    "# CZH Beispiel für hohe Grade\n",
    "Polynome = [\n",
    "    (1,0,0,0,0,0,0,0,0,0,0,0,0,0,0,0,0,0,0,1,0,1),\n",
    "    (1,0,0,0,0,0,0,0,0,0,0,0,0,0,0,0,0,0,0,0,0,1,1),\n",
    "    (1,0,0,0,0,0,0,0,0,0,0,0,0,0,0,0,0,0,1,0,0,0,0,1),\n",
    "    (1,0,0,0,0,0,0,0,0,0,0,0,0,0,0,0,0,0,0,0,1,1,0,1,1),\n",
    "    (1,0,0,0,0,0,0,0,0,0,0,0,0,0,0,0,0,0,0,0,0,0,1,0,0,1),\n",
    "    (1,0,0,0,0,0,0,0,0,0,0,0,0,0,0,0,0,0,0,0,0,0,0,0,0,0,0,0,0,1,1),\n",
    "]\n",
    "    \n",
    "for F in Polynome:\n",
    "    print(f\"{tuple_to_polynom(F)}\")\n",
    "    print(f\"Cantor-Zassenhaus: {cantor_zassenhaus(F)}\")"
   ]
  },
  {
   "cell_type": "code",
   "execution_count": 13,
   "id": "c128e96a-2a20-4afb-968c-b2feb630f275",
   "metadata": {},
   "outputs": [
    {
     "name": "stdout",
     "output_type": "stream",
     "text": [
      "(X^2 + X + 1)\n",
      "(X^3 + X + 1)\n",
      "(X^3 + X^2 + 1)\n",
      "(X^4 + X + 1)\n",
      "(X^4 + X^3 + 1)\n",
      "(X^4 + X^3 + X^2 + X + 1)\n",
      "(X^5 + X^2 + 1)\n",
      "(X^5 + X^3 + 1)\n",
      "(X^5 + X^3 + X^2 + X + 1)\n",
      "(X^5 + X^4 + X^2 + X + 1)\n",
      "(X^5 + X^4 + X^3 + X + 1)\n",
      "(X^5 + X^4 + X^3 + X^2 + 1)\n",
      "(X^6 + X + 1)\n",
      "(X^6 + X^3 + 1)\n",
      "(X^6 + X^4 + X^2 + X + 1)\n",
      "(X^6 + X^4 + X^3 + X + 1)\n",
      "(X^6 + X^5 + 1)\n",
      "(X^6 + X^5 + X^2 + X + 1)\n",
      "(X^6 + X^5 + X^3 + X^2 + 1)\n",
      "(X^6 + X^5 + X^4 + X + 1)\n",
      "(X^6 + X^5 + X^4 + X^2 + 1)\n",
      "(X^7 + X + 1)\n",
      "(X^7 + X^3 + 1)\n",
      "(X^7 + X^3 + X^2 + X + 1)\n",
      "(X^7 + X^4 + 1)\n",
      "(X^7 + X^4 + X^3 + X^2 + 1)\n",
      "(X^7 + X^5 + X^2 + X + 1)\n",
      "(X^7 + X^5 + X^3 + X + 1)\n",
      "(X^7 + X^5 + X^4 + X^3 + 1)\n",
      "(X^7 + X^5 + X^4 + X^3 + X^2 + X + 1)\n",
      "(X^7 + X^6 + 1)\n",
      "(X^7 + X^6 + X^3 + X + 1)\n",
      "(X^7 + X^6 + X^4 + X + 1)\n",
      "(X^7 + X^6 + X^4 + X^2 + 1)\n",
      "(X^7 + X^6 + X^5 + X^2 + 1)\n",
      "(X^7 + X^6 + X^5 + X^3 + X^2 + X + 1)\n",
      "(X^7 + X^6 + X^5 + X^4 + 1)\n",
      "(X^7 + X^6 + X^5 + X^4 + X^2 + X + 1)\n",
      "(X^7 + X^6 + X^5 + X^4 + X^3 + X^2 + 1)\n",
      "(X^8 + X^4 + X^3 + X + 1)\n",
      "(X^8 + X^4 + X^3 + X^2 + 1)\n",
      "(X^8 + X^5 + X^3 + X + 1)\n",
      "(X^8 + X^5 + X^3 + X^2 + 1)\n",
      "(X^8 + X^5 + X^4 + X^3 + 1)\n",
      "(X^8 + X^5 + X^4 + X^3 + X^2 + X + 1)\n",
      "(X^8 + X^6 + X^3 + X^2 + 1)\n",
      "(X^8 + X^6 + X^4 + X^3 + X^2 + X + 1)\n",
      "(X^8 + X^6 + X^5 + X + 1)\n",
      "(X^8 + X^6 + X^5 + X^2 + 1)\n",
      "(X^8 + X^6 + X^5 + X^3 + 1)\n",
      "(X^8 + X^6 + X^5 + X^4 + 1)\n",
      "(X^8 + X^6 + X^5 + X^4 + X^2 + X + 1)\n",
      "(X^8 + X^6 + X^5 + X^4 + X^3 + X + 1)\n",
      "(X^8 + X^7 + X^2 + X + 1)\n",
      "(X^8 + X^7 + X^3 + X + 1)\n",
      "(X^8 + X^7 + X^3 + X^2 + 1)\n",
      "(X^8 + X^7 + X^4 + X^3 + X^2 + X + 1)\n",
      "(X^8 + X^7 + X^5 + X + 1)\n",
      "(X^8 + X^7 + X^5 + X^3 + 1)\n",
      "(X^8 + X^7 + X^5 + X^4 + 1)\n",
      "(X^8 + X^7 + X^5 + X^4 + X^3 + X^2 + 1)\n",
      "(X^8 + X^7 + X^6 + X + 1)\n",
      "(X^8 + X^7 + X^6 + X^3 + X^2 + X + 1)\n",
      "(X^8 + X^7 + X^6 + X^4 + X^2 + X + 1)\n",
      "(X^8 + X^7 + X^6 + X^4 + X^3 + X^2 + 1)\n",
      "(X^8 + X^7 + X^6 + X^5 + X^2 + X + 1)\n",
      "(X^8 + X^7 + X^6 + X^5 + X^4 + X + 1)\n",
      "(X^8 + X^7 + X^6 + X^5 + X^4 + X^2 + 1)\n",
      "(X^8 + X^7 + X^6 + X^5 + X^4 + X^3 + 1)\n"
     ]
    }
   ],
   "source": [
    "# Bestimme Liste an Minimalpolynome bis Grad 8 (für die Erstellung der Tabelle genutzt)\n",
    "Minpol_List = get_all_minpols(8)\n",
    "\n",
    "for F in Minpol_List:\n",
    "    print(tuple_to_polynom(F))"
   ]
  }
 ],
 "metadata": {
  "kernelspec": {
   "display_name": "Python 3 (ipykernel)",
   "language": "python",
   "name": "python3"
  },
  "language_info": {
   "codemirror_mode": {
    "name": "ipython",
    "version": 3
   },
   "file_extension": ".py",
   "mimetype": "text/x-python",
   "name": "python",
   "nbconvert_exporter": "python",
   "pygments_lexer": "ipython3",
   "version": "3.12.3"
  }
 },
 "nbformat": 4,
 "nbformat_minor": 5
}
