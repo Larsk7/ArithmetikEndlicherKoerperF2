{
 "cells": [
  {
   "cell_type": "code",
   "execution_count": 1,
   "id": "92c41ec7-cfde-4615-8500-ea14db22079f",
   "metadata": {},
   "outputs": [],
   "source": [
    "%run ./Functions/TupleToPolynom.ipynb\n",
    "%run ./Functions/AddPolynoms.ipynb\n",
    "%run ./Functions/PolynomDivision.ipynb\n",
    "%run ./Functions/MinimalPolynoms.ipynb\n",
    "%run ./Functions/MultiplyPolynoms.ipynb\n",
    "%run ./Functions/Euclid.ipynb\n",
    "%run ./Functions/AlternativeMultiplication.ipynb\n",
    "%run ./Functions/AuxiliaryFunctions.ipynb\n",
    "%run ./Functions/CantorZassenhaus.ipynb"
   ]
  },
  {
   "cell_type": "code",
   "execution_count": 23,
   "id": "00531d96-0b53-4560-9124-f0c212044c39",
   "metadata": {},
   "outputs": [
    {
     "name": "stdout",
     "output_type": "stream",
     "text": [
      "Falsch: 0\n",
      "Korrekt: 32764\n"
     ]
    }
   ],
   "source": [
    "len_of_tupels = 15\n",
    "\n",
    "list_of_all_tupels = List_of_all_tupels = list(product([0, 1], repeat=len_of_tupels))\n",
    "\n",
    "# Tupel mit Grad < 2 aus der Liste entfernen\n",
    "list_of_all_tupels = list_of_all_tupels[4:]\n",
    "\n",
    "mistake_counter = 0\n",
    "correct_counter = 0\n",
    "\n",
    "for F in list_of_all_tupels:\n",
    "    \n",
    "    A = is_minpol(F)\n",
    "    B = cantor_zassenhaus(F)\n",
    "\n",
    "    if A == B:\n",
    "        correct_counter = correct_counter + 1\n",
    "    else:\n",
    "        mistake_counter = mistake_counter + 1\n",
    "        \n",
    "print(f\"Falsch: {mistake_counter}\")\n",
    "print(f\"Korrekt: {correct_counter}\")"
   ]
  },
  {
   "cell_type": "code",
   "execution_count": null,
   "id": "853ae695-f68a-411e-9508-c68222e80362",
   "metadata": {},
   "outputs": [],
   "source": []
  }
 ],
 "metadata": {
  "kernelspec": {
   "display_name": "Python 3 (ipykernel)",
   "language": "python",
   "name": "python3"
  },
  "language_info": {
   "codemirror_mode": {
    "name": "ipython",
    "version": 3
   },
   "file_extension": ".py",
   "mimetype": "text/x-python",
   "name": "python",
   "nbconvert_exporter": "python",
   "pygments_lexer": "ipython3",
   "version": "3.12.3"
  }
 },
 "nbformat": 4,
 "nbformat_minor": 5
}
