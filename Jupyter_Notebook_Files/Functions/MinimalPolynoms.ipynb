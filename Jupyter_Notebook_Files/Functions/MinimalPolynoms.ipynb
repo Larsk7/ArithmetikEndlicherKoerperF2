{
 "cells": [
  {
   "cell_type": "code",
   "execution_count": 1,
   "id": "54478061",
   "metadata": {},
   "outputs": [],
   "source": [
    "from itertools import product"
   ]
  },
  {
   "cell_type": "code",
   "execution_count": 2,
   "id": "51e71ee5",
   "metadata": {},
   "outputs": [],
   "source": [
    "# Funktion die alle möglichen Minimalpolynome, bis zu einem bestimmten Grad erzeugt\n",
    "def get_all_minpols(max_degree):\n",
    "\n",
    "    # Erstellt Polynome für alle Grade von 2 bis zum gegebenen maximalen Grad\n",
    "    # Erstellt alle Koeffizienten-Kombinationen (Kartesischen Produkt) mit der Länge des aktuellen Grads\n",
    "    # Nur wenn die erste Stelle eine 1 ist, ergibt sich ein neues Polynom, und dies muss ein Minimalpolynom sein\n",
    "    return [polynom for degree in range(2, max_degree + 1)\n",
    "                    for polynom in product([0,1], repeat = degree + 1)\n",
    "                    if polynom[0] and is_minpol(polynom)]"
   ]
  },
  {
   "cell_type": "code",
   "execution_count": 3,
   "id": "f3ab38b1",
   "metadata": {},
   "outputs": [],
   "source": [
    "# Funktion zum Überprüfen, ob ein Polynom ein Minimalpolynom ist\n",
    "def is_minpol(F):\n",
    "    \n",
    "    # Wenn das Polynom F eine Nullstelle hat, kann es kein Minimalpolynom sein\n",
    "    if has_root(F):\n",
    "        return False\n",
    "    \n",
    "    # Bestimme den Maximalen Teilergrad, in den das Polynom zerfallen kann \n",
    "    # (Grad von F ganzzahlig dividiert durch 2)\n",
    "    max_div_degree = find_degree(F) // 2\n",
    "    \n",
    "    # Bestimme Liste aller Minimalpolynome abhängig vom maximalen Teilergrad\n",
    "    list_of_minpols = get_all_minpols(max_div_degree)\n",
    "\n",
    "    # Teile das Polynom F durch alle Minimalpolynome (abhängig vom maximalen Teilergrad)\n",
    "    for G in list_of_minpols:\n",
    "\n",
    "        # Einzeile Polynomdivision mit F und dem aktuellen G\n",
    "        L, R = polynom_division(F, G)\n",
    "        \n",
    "        # Wenn eine Polynomdivison ohne Rest aufgeht, dann ist F kein Minimalpolynom\n",
    "        if tuple_to_polynom(R) == 0:\n",
    "            return False\n",
    "    \n",
    "    # Keine Nullstelle und keine Polynomdivision geht ohne Rest auf -> F ist Minimalpolynom\n",
    "    return True"
   ]
  }
 ],
 "metadata": {
  "kernelspec": {
   "display_name": "Python 3 (ipykernel)",
   "language": "python",
   "name": "python3"
  },
  "language_info": {
   "codemirror_mode": {
    "name": "ipython",
    "version": 3
   },
   "file_extension": ".py",
   "mimetype": "text/x-python",
   "name": "python",
   "nbconvert_exporter": "python",
   "pygments_lexer": "ipython3",
   "version": "3.12.3"
  }
 },
 "nbformat": 4,
 "nbformat_minor": 5
}
