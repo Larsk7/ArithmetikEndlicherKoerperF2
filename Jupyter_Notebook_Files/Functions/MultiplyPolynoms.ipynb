{
 "cells": [
  {
   "cell_type": "code",
   "execution_count": 1,
   "id": "adeeac00",
   "metadata": {},
   "outputs": [],
   "source": [
    "# Funktion um 2 Polynome zu multiplizieren\n",
    "def multiply_polynoms(F, G):\n",
    "\n",
    "    # Erstelle ein Lösungsarray S und initialisiere alle Stellen mit 0\n",
    "    # Die Länge von S ist die Summe der Einzellängen -1 (Bsp X^4 * X^4 = X^8, wobei beide Faktoren 5 lang sind, und das Ergebnis 9 -> 9 = 4 + 4 - 1)\n",
    "    S = [0] * (len(F) + len(G) - 1) \n",
    "\n",
    "    # Multipliziere jedes Element des ersten Tupels mit jedem des zweiten, \n",
    "    # wobei jeweils der Index (i und j) sowie dessen Wert (coef1 und coef2) benötigt wird\n",
    "    for i, coef1 in enumerate(F):\n",
    "        for j, coef2 in enumerate(G):\n",
    "\n",
    "                # Addition in Char2 entsprich XOR\n",
    "                # Multipliziere die beiden Aktuellen Koeffizienten und Addiere  das Ergebnis zum aktuellen Wert der Stelle (i + j)\n",
    "                S[i + j] ^= coef1 * coef2\n",
    "\n",
    "    # Gebe das Lösungsarray als Tupel zurück\n",
    "    return cut_zeros_left(tuple(S))"
   ]
  },
  {
   "cell_type": "code",
   "execution_count": 2,
   "id": "07a24680",
   "metadata": {},
   "outputs": [],
   "source": [
    "# Funktion um das Produkt zweier Polynome mittels eines Minimalpolynoms zu reduzieren\n",
    "# F ist das Polynom, das reduziert werden soll, M das Minimalpolynom, mit dem reduziert wird\n",
    "def reduce_product(F, M):\n",
    "\n",
    "    # Grad von F und M bestimmen\n",
    "    Gf, Gm = find_degree(F), find_degree(M)\n",
    "    \n",
    "    # Wenn der Grad von F kleiner als der Grad von M ist, muss nichts vereinfacht werden\n",
    "    if Gf < Gm:\n",
    "        return (0,) * (Gm - len(F)) + F\n",
    "\n",
    "    # Alle Führenden Nullen von links in F und M abschneiden, \n",
    "    # und Tupel umdrehen, damit nun die Stellenanzahl dem Exponenten entspricht\n",
    "    F, M = cut_zeros_left(F)[::-1], cut_zeros_left(M)[::-1]\n",
    "       \n",
    "    # Vereinfache so lange, bis F kürzer als M ist, also bis der Grad von F kleiner als der Grad von M ist\n",
    "    while len(F) >= len(M):\n",
    "\n",
    "        # Ermittlung welcher Faktor bleibt nach einem Vereinfachungsschritt (bsp Rel mit X^8 = ... -> X^13 = X^8 * X^5)\n",
    "        remaining_exponent = len(F) - 1 - Gm\n",
    "        \n",
    "        # Füge M so viele Nullen von links hinzu wie  groß remExp ist (entspricht der Multiplikation)\n",
    "        # 1 ganz rechts abschneiden, da diese Potenz in der Relation auf der anderen Seite des \"=\" steht\n",
    "        temp_M = (0,) * remaining_exponent + M[:-1]\n",
    "\n",
    "        # Durch den Vereinfachungsschritt fällt die höchste Potenz von F weg\n",
    "        # Vereinfache F indem es mit temp_M addiert wird\n",
    "        # Dazu führende Nullen von links wegschneiden, damit in while-bed die Länge stimmt \n",
    "        # 2x umdrehen, da nullen nur von links weggeschnitten werden können\n",
    "        F = cut_zeros_left(add_polynoms(F[:-1], temp_M)[::-1])[::-1]\n",
    "        \n",
    "    # F zurückgeben, mit Nullen nach rechts aufgefüllt, bis F die Länge vom Grad von M hat (und das wieder umgedreht)\n",
    "    return (F + (0,) * (Gm - len(F)))[::-1]"
   ]
  }
 ],
 "metadata": {
  "kernelspec": {
   "display_name": "Python 3 (ipykernel)",
   "language": "python",
   "name": "python3"
  },
  "language_info": {
   "codemirror_mode": {
    "name": "ipython",
    "version": 3
   },
   "file_extension": ".py",
   "mimetype": "text/x-python",
   "name": "python",
   "nbconvert_exporter": "python",
   "pygments_lexer": "ipython3",
   "version": "3.12.3"
  }
 },
 "nbformat": 4,
 "nbformat_minor": 5
}
