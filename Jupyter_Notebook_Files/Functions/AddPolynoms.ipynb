{
 "cells": [
  {
   "cell_type": "code",
   "execution_count": 1,
   "id": "4b500e1b",
   "metadata": {},
   "outputs": [],
   "source": [
    "# Funktion um 2 Tupel zu addieren \n",
    "def add_polynoms(F, G):\n",
    "\n",
    "    # Maximale Länge der beiden Tupel bestimmen\n",
    "    max_len = max(len(F), len(G))\n",
    "\n",
    "    # Beide Tupel mit führenden Nullen füllen bis max_len erreicht\n",
    "    F = (0,) * (max_len - len(F)) + F\n",
    "    G = (0,) * (max_len - len(G)) + G\n",
    "        \n",
    "    #Iterative Addition der Stellen (in Modulo 2)\n",
    "    return tuple([(F[i] + G[i]) % 2 \n",
    "                  for i in range(max_len)])"
   ]
  }
 ],
 "metadata": {
  "kernelspec": {
   "display_name": "Python 3 (ipykernel)",
   "language": "python",
   "name": "python3"
  },
  "language_info": {
   "codemirror_mode": {
    "name": "ipython",
    "version": 3
   },
   "file_extension": ".py",
   "mimetype": "text/x-python",
   "name": "python",
   "nbconvert_exporter": "python",
   "pygments_lexer": "ipython3",
   "version": "3.12.3"
  }
 },
 "nbformat": 4,
 "nbformat_minor": 5
}
