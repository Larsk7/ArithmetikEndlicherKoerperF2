{
 "cells": [
  {
   "cell_type": "code",
   "execution_count": 1,
   "id": "74042e09",
   "metadata": {},
   "outputs": [],
   "source": [
    "# Funtkion um den Euklidischen Algorithmus mit Polynomen durchzuführen\n",
    "def euclid(m, n):\n",
    "    \n",
    "    # setzte r0 und r1 initial auf m und n\n",
    "    r0 = m\n",
    "    r1 = n\n",
    "    \n",
    "    # Inititiale Befüllung der Werte a0,a1,b0,b1\n",
    "    a0 = (1,)\n",
    "    b0 = (0,)\n",
    "    a1 = (0,)\n",
    "    b1 = (1,)\n",
    "    \n",
    "    # Schleife die abgebrochen wird, sobald in der if-Bedingung der Rest 0 ist (tritt immer auf -> nie endlosschleife)\n",
    "    while True:\n",
    "        \n",
    "        # Schneide die führenden Nullen (links) von r1 weg -> Funktion \"polynom_division\" kommt in den ersten return-Fall \n",
    "        r1 = cut_zeros_left(r1)\n",
    "       \n",
    "        # Teile die beiden Polynome r0 und r1 ganzzahlig mit Rest (Polynomdivision)\n",
    "        q, r = polynom_division(r0, r1)\n",
    "        \n",
    "        # Sobald der Rest der Pol.Div. 0 ist, ist der Euklidische Algorithmus beendet\n",
    "        if r == (0,):\n",
    "            \n",
    "            # Graphische Ausgabe der Ergebnisgleichung: ggT(m,n) = a1 * m + b1 * n\n",
    "            print(f\"{tuple_to_polynom(r1)} = ({tuple_to_polynom(a1)})*m + ({tuple_to_polynom(b1)})*n\")\n",
    "            \n",
    "            # Gebe den ggT (hier r1) und die Bezout-Koeffizienten zu m (hier a1) und n (hier b1) zurück\n",
    "            return r1, a1, b1\n",
    "        \n",
    "        # Zwischenspeicherung der Werte a0 und b0\n",
    "        a0_old = a0\n",
    "        b0_old = b0\n",
    "    \n",
    "        # Aktualisiere die Werte a0, b0 zu a1 und b1\n",
    "        a0 = a1\n",
    "        b0 = b1\n",
    "        \n",
    "        # Aktualisiere a1 zu (a0_old - q * a1) und b1 zu (b0_old - q * b1)\n",
    "        a1 = add_polynoms(a0_old, multiply_polynoms(q,a1))\n",
    "        b1 = add_polynoms(b0_old, multiply_polynoms(q,b1))\n",
    "        \n",
    "        # Für den nächsten Iterations-Schritt muss r1 zu r0 werden und r zu r1\n",
    "        r0 = r1\n",
    "        r1 = r"
   ]
  }
 ],
 "metadata": {
  "kernelspec": {
   "display_name": "Python 3 (ipykernel)",
   "language": "python",
   "name": "python3"
  },
  "language_info": {
   "codemirror_mode": {
    "name": "ipython",
    "version": 3
   },
   "file_extension": ".py",
   "mimetype": "text/x-python",
   "name": "python",
   "nbconvert_exporter": "python",
   "pygments_lexer": "ipython3",
   "version": "3.12.7"
  }
 },
 "nbformat": 4,
 "nbformat_minor": 5
}
