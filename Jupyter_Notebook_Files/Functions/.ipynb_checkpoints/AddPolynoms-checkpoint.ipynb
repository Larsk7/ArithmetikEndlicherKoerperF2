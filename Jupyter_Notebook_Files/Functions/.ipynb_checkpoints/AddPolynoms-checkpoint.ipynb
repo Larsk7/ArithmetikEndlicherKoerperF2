{
 "cells": [
  {
   "cell_type": "code",
   "execution_count": 1,
   "id": "4b500e1b",
   "metadata": {},
   "outputs": [],
   "source": [
    "# Funktion um 2 Tupel zu addieren \n",
    "def add_polynoms(F, G):\n",
    "    \n",
    "    # kürzeres Tupel mit Nullen (nach links) auffüllen, damit die Tupel gleichviele Stellen haben\n",
    "    # Für den Aufruf aus der Fkt polynom_division sind beide Polynome bereits gleichlang (gemacht worden)\n",
    "    if len(F) > len(G): \n",
    "        G = (0,) * (len(F) - len(G)) + G\n",
    "        \n",
    "    else:\n",
    "        F = (0,) * (len(G) - len(F)) + F\n",
    "        \n",
    "    # Lösungspolynom der Addition als leere Liste (später Umwandlung zum Polynom)\n",
    "    S = [] \n",
    "    \n",
    "    #Iterative Addition der Stellen (in Modulo 2)\n",
    "    for counter in range(len(F)):\n",
    "        S.append((F[counter] + G [counter]) % 2)\n",
    "    \n",
    "    return tuple(S)"
   ]
  }
 ],
 "metadata": {
  "kernelspec": {
   "display_name": "Python 3 (ipykernel)",
   "language": "python",
   "name": "python3"
  },
  "language_info": {
   "codemirror_mode": {
    "name": "ipython",
    "version": 3
   },
   "file_extension": ".py",
   "mimetype": "text/x-python",
   "name": "python",
   "nbconvert_exporter": "python",
   "pygments_lexer": "ipython3",
   "version": "3.12.3"
  }
 },
 "nbformat": 4,
 "nbformat_minor": 5
}
