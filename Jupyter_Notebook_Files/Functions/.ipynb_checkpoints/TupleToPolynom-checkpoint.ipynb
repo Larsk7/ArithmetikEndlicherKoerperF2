{
 "cells": [
  {
   "cell_type": "code",
   "execution_count": 1,
   "id": "fcff8292",
   "metadata": {},
   "outputs": [],
   "source": [
    "# Funktion um ein binäres Tupel zu einem Polynom zu machen\n",
    "def tuple_to_polynom(tuple):\n",
    "    \n",
    "    # Wenn Polynom nur Nuller hat -> Return 0\n",
    "    if all(element == 0 for element in tuple):\n",
    "        return 0\n",
    "    \n",
    "    # Liste in die das Polynon gefüllt wird\n",
    "    polynom = []\n",
    "\n",
    "    # Schleife über die Tupel und Index und Vorfaktor rausfinden\n",
    "    for counter, coeff in enumerate(reversed(tuple)):\n",
    "        \n",
    "        # Wenn Vorfaktor = 1 -> ergänze Polynom um 1, X oder X^counter\n",
    "        if coeff == 1:\n",
    "            if counter == 0:\n",
    "                polynom.append(\"1\")  \n",
    "                \n",
    "            elif counter == 1:\n",
    "                polynom.append(\"X\") \n",
    "                \n",
    "            else:\n",
    "                polynom.append(f\"X^{counter}\") \n",
    "                \n",
    "    # Verbinde die X-Potenzen des Polynoms mit +            \n",
    "    return \" + \".join(reversed(polynom)) "
   ]
  }
 ],
 "metadata": {
  "kernelspec": {
   "display_name": "Python 3 (ipykernel)",
   "language": "python",
   "name": "python3"
  },
  "language_info": {
   "codemirror_mode": {
    "name": "ipython",
    "version": 3
   },
   "file_extension": ".py",
   "mimetype": "text/x-python",
   "name": "python",
   "nbconvert_exporter": "python",
   "pygments_lexer": "ipython3",
   "version": "3.12.7"
  }
 },
 "nbformat": 4,
 "nbformat_minor": 5
}
