{
 "cells": [
  {
   "cell_type": "code",
   "execution_count": 1,
   "id": "00c8a45d-e809-4525-bedd-73b26a9fc70b",
   "metadata": {},
   "outputs": [],
   "source": [
    "# Funktion, um ein binäres Tupel zu einem Polynom zu machen\n",
    "def tuple_to_polynom(F):\n",
    "\n",
    "    # Wenn ein Polynom nur Nullen hat -> Return 0\n",
    "    if all(elem == 0 for elem in F):\n",
    "        return 0\n",
    "\n",
    "    # Fälle für Teilstrings bestimmen\n",
    "    cases = {0: \"1\", 1: \"X\"}\n",
    "\n",
    "    # Iteration über Tupel und je Teilstring bestimmen\n",
    "    L = [\n",
    "        cases.get(i, f\"X^{i}\")\n",
    "        for i, coeff in enumerate(reversed(F))\n",
    "        if coeff == 1\n",
    "    ]  \n",
    "\n",
    "    # Verbinde die X-Potenzen des Polynoms mit + (und Umklammert\n",
    "    return \"(\" + \" + \".join(reversed(L)) + \")\""
   ]
  }
 ],
 "metadata": {
  "kernelspec": {
   "display_name": "Python 3 (ipykernel)",
   "language": "python",
   "name": "python3"
  },
  "language_info": {
   "codemirror_mode": {
    "name": "ipython",
    "version": 3
   },
   "file_extension": ".py",
   "mimetype": "text/x-python",
   "name": "python",
   "nbconvert_exporter": "python",
   "pygments_lexer": "ipython3",
   "version": "3.12.3"
  }
 },
 "nbformat": 4,
 "nbformat_minor": 5
}
