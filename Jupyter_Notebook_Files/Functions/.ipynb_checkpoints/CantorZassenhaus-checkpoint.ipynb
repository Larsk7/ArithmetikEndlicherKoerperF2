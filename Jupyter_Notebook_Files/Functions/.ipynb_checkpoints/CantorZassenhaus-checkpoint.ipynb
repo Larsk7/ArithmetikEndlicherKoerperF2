{
 "cells": [
  {
   "cell_type": "code",
   "execution_count": 1,
   "id": "8bc0b8c0-351b-4719-be02-df9071c394fe",
   "metadata": {},
   "outputs": [],
   "source": [
    "# Funktion um den Exponenten einer bestimmten Position im Tupel zu finden\n",
    "def find_exponent(F, pos):\n",
    "    return len(F) - pos - 1    "
   ]
  },
  {
   "cell_type": "code",
   "execution_count": 2,
   "id": "e9296e67-94a7-4e09-9e17-c51cff673d6a",
   "metadata": {},
   "outputs": [],
   "source": [
    "def find_derivative(F):\n",
    "\n",
    "    # Lösungstupel\n",
    "    L = []\n",
    "    \n",
    "    # Über alle Stellen iterieren\n",
    "    for i in range(len(F)):\n",
    "\n",
    "        # Die Stelle im Lösungstupel ist nur dann 1, wenn der Exponent vor der Ableitung ungerade war, und der Vorfaktor 1 war\n",
    "        if F[i] == 1:\n",
    "            L.append(find_exponent(F,i) % 2)\n",
    "\n",
    "        else:\n",
    "            L.append(0)\n",
    "\n",
    "    # Letzte Stelle abschneiden, da Konstanten bei der Ableitung wegfallen\n",
    "    L = L[:-1]\n",
    "\n",
    "    return tuple(L)\n",
    "    # Am ende letzte Stelle abschneiden"
   ]
  },
  {
   "cell_type": "code",
   "execution_count": 3,
   "id": "56b6416f-eaaa-43e3-a8c1-a8e0a36fbc47",
   "metadata": {},
   "outputs": [],
   "source": [
    "# Funktion für den Cantor-Zassenhaus-Algorithmus -> returnt True, wenn F irreduzibel (False wenn nicht irreduzibel)\n",
    "def cantor_zassenhaus(F):\n",
    "    \n",
    "    # Ableitung von F bestimmen\n",
    "    dF = find_derivative(F)\n",
    "\n",
    "    # Wenn die Ableitung von F gleich 0 ist, ist F nicht irreduzibel\n",
    "    if dF == (0,):\n",
    "        return False\n",
    "\n",
    "    # Wende Euklidischen Algorithmus auf F und dessen Ableitung dF an\n",
    "    ggT_dF, bkF_dF, bkdF = euclid(F,dF)\n",
    "    \n",
    "    # Wenn der Grad des ggT´s von F und dF größergleich 1 ist, ist F nicht irreduzibel\n",
    "    if find_degree(ggT_dF) >= 1:\n",
    "        return False\n",
    "\n",
    "    # l ist der Grad von F ganzzahlig abgerundet geteilt durch 2 -> höchster Grad eines Polynoms, dass F jetzt noch Teilen kann\n",
    "    l = find_degree(F) // 2\n",
    "\n",
    "    # h stellt Polynom ((X^q^l) - X) dar, wobei q = 2 (da Charakteristik 2)\n",
    "    # e = q^l muss zwischengerechnet werden, um h zu erstellen (e ist der Exponent)\n",
    "    e = 2 ** l\n",
    "\n",
    "    # Erstelle den Teil X^q^l (hat hat e als höchsten Exponent, und demnach folgen auch genau e Nullen)\n",
    "    h = (1,) + (0,) * e \n",
    "\n",
    "    # Füge das - X (bzw. + X) hinzu\n",
    "    h = add_polynoms(h, (1,0))\n",
    "\n",
    "    # Wende Euklidischen Algorithmus auf F und das eben erstellte Polynom h an\n",
    "    ggT_h, bkF_h, bkh = euclid(F, h)\n",
    "    \n",
    "    # Wenn der Grad des ggT´s von F und h größergleich 1 ist, ist F nicht irreduzibel\n",
    "    if find_degree(ggT_h) >= 1:\n",
    "        return False\n",
    "\n",
    "    # F ist irreduzibel\n",
    "    return True    "
   ]
  }
 ],
 "metadata": {
  "kernelspec": {
   "display_name": "Python 3 (ipykernel)",
   "language": "python",
   "name": "python3"
  },
  "language_info": {
   "codemirror_mode": {
    "name": "ipython",
    "version": 3
   },
   "file_extension": ".py",
   "mimetype": "text/x-python",
   "name": "python",
   "nbconvert_exporter": "python",
   "pygments_lexer": "ipython3",
   "version": "3.12.3"
  }
 },
 "nbformat": 4,
 "nbformat_minor": 5
}
