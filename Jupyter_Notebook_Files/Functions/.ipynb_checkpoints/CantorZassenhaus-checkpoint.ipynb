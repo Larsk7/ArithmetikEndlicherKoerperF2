{
 "cells": [
  {
   "cell_type": "code",
   "execution_count": 1,
   "id": "56b6416f-eaaa-43e3-a8c1-a8e0a36fbc47",
   "metadata": {},
   "outputs": [],
   "source": [
    "# Funktion für den Cantor-Zassenhaus-Algorithmus -> returnt True, wenn F irreduzibel (False wenn nicht irreduzibel)\n",
    "def cantor_zassenhaus(F):\n",
    "    \n",
    "    # Ableitung von F bestimmen\n",
    "    dF = find_derivative(F)\n",
    "\n",
    "    # Wenn die Ableitung von F gleich 0 ist, ist F nicht irreduzibel (-> F(X) = g(X)^p)\n",
    "    if dF == (0,):\n",
    "        return False\n",
    "\n",
    "     # Wende Euklidischen Algorithmus auf F und dessen Ableitung dF an\n",
    "    ggT_dF, _, _ = euclid(F,dF)\n",
    "    \n",
    "    # Wenn der Grad des ggT´s von F und dF größer als 1 ist, ist F nicht irreduzibel\n",
    "    if find_degree(ggT_dF) > 0:\n",
    "        return False\n",
    "    \n",
    "    # l ist der Grad von F ganzzahlig abgerundet geteilt durch 2 -> höchster Grad eines Polynoms, dass F jetzt noch Teilen kann\n",
    "    # niedrigster Grad ist 1, da sonst triviales Polynom\n",
    "    for l in range(1, int(find_degree(F)/2) + 1):\n",
    "\n",
    "        # h stellt Polynom ((X^q^l) - X) dar, wobei q = 2 (da Charakteristik 2)\n",
    "        # Erstelle den Teil X^q^l (hat hat e als höchsten Exponent, und demnach folgen auch genau e Nullen)\n",
    "        h = (1,) + (0,) * (2**l)\n",
    "\n",
    "        # Füge das - X (bzw. + X) hinzu\n",
    "        h = add_polynoms(h, (1,0))\n",
    "\n",
    "        # Wende Euklidischen Algorithmus auf F und das eben erstellte Polynom h an\n",
    "        ggT_h, _, _ = euclid(F, h)\n",
    "    \n",
    "        # Wenn der Grad des ggT´s von F und h größergleich 1 ist, ist F nicht irreduzibel\n",
    "        if find_degree(ggT_h) >= 1:\n",
    "\n",
    "            return False\n",
    "\n",
    "    return True    "
   ]
  }
 ],
 "metadata": {
  "kernelspec": {
   "display_name": "Python 3 (ipykernel)",
   "language": "python",
   "name": "python3"
  },
  "language_info": {
   "codemirror_mode": {
    "name": "ipython",
    "version": 3
   },
   "file_extension": ".py",
   "mimetype": "text/x-python",
   "name": "python",
   "nbconvert_exporter": "python",
   "pygments_lexer": "ipython3",
   "version": "3.12.3"
  }
 },
 "nbformat": 4,
 "nbformat_minor": 5
}
