{
 "cells": [
  {
   "cell_type": "code",
   "execution_count": 1,
   "id": "2fcbdf1e-cb1b-4476-b589-0b10b1fc7be2",
   "metadata": {},
   "outputs": [],
   "source": [
    "# Funktion um Polynomdivision durchzuführen\n",
    "def polynom_division(F, G):\n",
    "    \n",
    "    # Wenn durch 1 geteilt wird, ändert sich F durch die Division nicht und der Rest wird 0\n",
    "    if G == (1,):\n",
    "        return F, (0,)\n",
    "    \n",
    "    # Lösungs-Polynom als leere Liste (später Umwandlung zum Polynom)    \n",
    "    L = [] \n",
    "    \n",
    "    # Kopie von F, um es zu modifizieren\n",
    "    F = list(F)\n",
    "    \n",
    "    # Schleife über die Länge des Polynoms F\n",
    "    while len(F) >= len(G):\n",
    "        # Nächste Stelle des Lösungspolynoms entspricht aktueller Stelle vom Zählerpolynom\n",
    "        L.append(F[0])\n",
    "        \n",
    "        # Wenn aktuelle Stelle vom ZP=1, dann XOR von ZP und NP -> Ergebnis in ZP\n",
    "        if F[0] == 1:\n",
    "            # XOR von F und G (mit Nullen aufgefüllt)\n",
    "            for i in range(len(G)):\n",
    "                F[i] ^= G[i]\n",
    "        \n",
    "        # Entferne das erste Element von F, da es verarbeitet wurde\n",
    "        F.pop(0)\n",
    "    \n",
    "    # Der Rest ist das, was in F übrig bleibt\n",
    "    return tuple(L), tuple(F)"
   ]
  }
 ],
 "metadata": {
  "kernelspec": {
   "display_name": "Python 3 (ipykernel)",
   "language": "python",
   "name": "python3"
  },
  "language_info": {
   "codemirror_mode": {
    "name": "ipython",
    "version": 3
   },
   "file_extension": ".py",
   "mimetype": "text/x-python",
   "name": "python",
   "nbconvert_exporter": "python",
   "pygments_lexer": "ipython3",
   "version": "3.12.3"
  }
 },
 "nbformat": 4,
 "nbformat_minor": 5
}
