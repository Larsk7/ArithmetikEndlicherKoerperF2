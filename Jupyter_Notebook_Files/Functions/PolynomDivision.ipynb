{
 "cells": [
  {
   "cell_type": "code",
   "execution_count": 1,
   "id": "5a36cb88",
   "metadata": {},
   "outputs": [],
   "source": [
    "# Funktion um Polynomdivision mit den beiden binären Tupel F und G durchzuführen\n",
    "def polynom_division(F, G):\n",
    "    \n",
    "    # Wenn durch 1 geteilt wird, ändert sich F durch die Division nicht und der Rest wird 0\n",
    "    if G == (1,):\n",
    "        return F, (0,)\n",
    "    \n",
    "    # Lösungs-Polynom als leere Liste (später Umwandlung zum Polynom)    \n",
    "    S = [] \n",
    "    \n",
    "    # Speichern der Anfangslänge von F\n",
    "    starting_len = len(F)\n",
    "\n",
    "    # Schleife über die Länge des Polynoms F\n",
    "    for counter in range(len(F)):\n",
    "        \n",
    "        # Abbrechbedingung der Schleife: F muss min die länge von G haben\n",
    "        if len(F[counter:]) < len(G): \n",
    "            \n",
    "            # Was am Ende in F steht, stellt den Rest dar\n",
    "            return tuple(S), tuple(F)\n",
    "        \n",
    "        # Nächste Stelle des Lösungspolynoms entspricht aktueller Stelle vom Zählerpolynom\n",
    "        S.append(F[counter]) \n",
    "        \n",
    "        # Wenn aktuelle Stelle vom ZP=1, dann addition von ZP und NP -> Ergebnis in ZP\n",
    "        if F[counter] == 1: \n",
    "            \n",
    "            # F bei der Addition (um counter) nach links einrücken und G nach rechts mit Nullen auffüllen\n",
    "            # Damit sichergestellt, das beide Tupel gleichlang sind\n",
    "            F = add_polynoms(F[counter:], G + (0,) * (len(F[counter:]) - len(G))) \n",
    "            \n",
    "        # F von links mitten Nullen füllen\n",
    "        F = (0,) * (starting_len - len(F)) + F "
   ]
  }
 ],
 "metadata": {
  "kernelspec": {
   "display_name": "Python 3 (ipykernel)",
   "language": "python",
   "name": "python3"
  },
  "language_info": {
   "codemirror_mode": {
    "name": "ipython",
    "version": 3
   },
   "file_extension": ".py",
   "mimetype": "text/x-python",
   "name": "python",
   "nbconvert_exporter": "python",
   "pygments_lexer": "ipython3",
   "version": "3.12.3"
  }
 },
 "nbformat": 4,
 "nbformat_minor": 5
}
