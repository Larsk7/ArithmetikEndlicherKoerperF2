{
 "cells": [
  {
   "cell_type": "code",
   "execution_count": 1,
   "id": "b586bea0-c840-4fd8-9e4c-442c4c726845",
   "metadata": {},
   "outputs": [],
   "source": [
    "# Funktion um den euklidischen Algorithmus auf Polynome anwenden zu können\n",
    "def euclid(m, n):\n",
    "    \n",
    "    # Initialisiere r0 und r1 mit m und n\n",
    "    r0, r1 = m, n\n",
    "\n",
    "    # Initialisiere die Koeffizienten a0, a1, b0, b1\n",
    "    a0, b1 = (1,), (1,)  \n",
    "    a1, b0 = (0,), (0,)  \n",
    "\n",
    "    # Schleife, bis der Rest 0 ist\n",
    "    while True:\n",
    "        \n",
    "        # Führe die Polynomdivision durch\n",
    "        q, r = polynom_division(r0, r1)\n",
    "\n",
    "        # Wenn der Rest 0 ist, ist der Algorithmus beendet\n",
    "        if cut_zeros_left(r) == (0,):\n",
    "\n",
    "            # Darstellung von m und n und dessen ggT \n",
    "            print(f\"m = {tuple_to_polynom(m)}, n = {tuple_to_polynom(n)}\")\n",
    "            print(f\"ggT(m, n) = {tuple_to_polynom(r1)}\")\n",
    "            \n",
    "            # Gebe den ggT (r1) und die Koeffizienten a1 und b1 zurück\n",
    "            return r1, a1, b1\n",
    "\n",
    "        # Aktualisiere die Koeffizienten\n",
    "        a0, a1 = a1, add_polynoms(a0, multiply_polynoms(q, a1))\n",
    "        b0, b1 = b1, add_polynoms(b0, multiply_polynoms(q, b1))\n",
    "\n",
    "        # Aktualisiere r0 und r1 für die nächste Iteration\n",
    "        r0, r1 = r1, cut_zeros_left(r)"
   ]
  }
 ],
 "metadata": {
  "kernelspec": {
   "display_name": "Python 3 (ipykernel)",
   "language": "python",
   "name": "python3"
  },
  "language_info": {
   "codemirror_mode": {
    "name": "ipython",
    "version": 3
   },
   "file_extension": ".py",
   "mimetype": "text/x-python",
   "name": "python",
   "nbconvert_exporter": "python",
   "pygments_lexer": "ipython3",
   "version": "3.12.3"
  }
 },
 "nbformat": 4,
 "nbformat_minor": 5
}
