{
 "cells": [
  {
   "cell_type": "code",
   "execution_count": 1,
   "id": "c094caf2-a5d5-4a40-a050-398745eb3567",
   "metadata": {},
   "outputs": [],
   "source": [
    "# Funktion um alle führenden Nullen eines Polynoms von links aus abzuschneiden\n",
    "def cut_zeros_left(F):\n",
    "    \n",
    "    # Nullen einzeln von links wegschneiden\n",
    "    while F and F[0] == 0:\n",
    "        F = F[1:]\n",
    "\n",
    "    # Wenn F keine Nullen hat wird ein Tupel mit einer Null zurückgegeben\n",
    "    if F == ():\n",
    "        return (0,)\n",
    "\n",
    "    # Gibt reduziertes Polynom zurück\n",
    "    return F"
   ]
  },
  {
   "cell_type": "code",
   "execution_count": 2,
   "id": "04d19dfb-3085-4278-8fe3-a9fa16477d91",
   "metadata": {},
   "outputs": [],
   "source": [
    "# Funktion um die Stelle der ersten 1 zu finden\n",
    "def find_pos_of_first_one(F):\n",
    "    \n",
    "    # Gibt die erste Stelle zurück, an der der Wert 1 ist\n",
    "    for i in range(len(F)):\n",
    "        if F[i] == 1:\n",
    "            return i\n",
    "    \n",
    "    # Gibt nichts zurück, falls keine Null im Polynom \n",
    "    return None"
   ]
  },
  {
   "cell_type": "code",
   "execution_count": 3,
   "id": "59ffa0e5-4f57-46ef-bfcf-b735988252fd",
   "metadata": {},
   "outputs": [],
   "source": [
    "# Funktion um den Grad eines Polynoms zu finden\n",
    "def find_degree(F):\n",
    "    \n",
    "    # Erhalte die Stelle der ersten 1\n",
    "    FirstOne = find_pos_of_first_one(F)\n",
    "    \n",
    "    # Bestimme Grad anhand der Ersten und der Restlänge des Polynoms (Wenn keine 1 -> return 0)\n",
    "    return (len(F)-1) - FirstOne if FirstOne != None else 0"
   ]
  },
  {
   "cell_type": "code",
   "execution_count": 4,
   "id": "10a8eb5c-100b-419a-a102-730fa3cbcc95",
   "metadata": {},
   "outputs": [],
   "source": [
    "# Funktion zum Überprüfen, ob ein Polynom eine Nullstelle hat (True wenns eine Nullstelle hat)\n",
    "def has_root(F):\n",
    "    \n",
    "    # Wenn die letzte Stelle eine 0 ist, dann ist F(0) eine Nullstelle\n",
    "    if F[-1] == 0:\n",
    "        return True\n",
    "        \n",
    "    # Zähle die 1er des Polynoms\n",
    "    counter = F.count(1)\n",
    "           \n",
    "    # Wenn die Anzahl der 1er gerade ist, dann ist F(1) eine Nullstelle, sonst nicht        \n",
    "    return (counter % 2) == 0"
   ]
  },
  {
   "cell_type": "code",
   "execution_count": 5,
   "id": "9a2973c1-5a09-4795-8ca2-793deb715e51",
   "metadata": {},
   "outputs": [],
   "source": [
    "def create_splitted_tuples(indizes, length):\n",
    "\n",
    "    # Erstelle Tupel-Liste, mit Länge 'length', die beim je Stelle aus 'indizes' gleich 1 sind\n",
    "    return [tuple(1 if i == index else 0\n",
    "        for i in range(length))\n",
    "        for index in indizes]"
   ]
  },
  {
   "cell_type": "code",
   "execution_count": 6,
   "id": "b8d3dfc1-c900-4e57-8988-dbca2ee127e0",
   "metadata": {},
   "outputs": [],
   "source": [
    "# Funktion um den Exponenten einer bestimmten Position im Tupel zu finden\n",
    "def find_exponent(F, pos):\n",
    "    \n",
    "    # Der Exponent setzt sich aus der Länge des Tupels und der Position des Monoms innerhalb des Tupels zusammen (-1, da die Stellen 0-basiert sind)\n",
    "    return len(F) - pos - 1    "
   ]
  },
  {
   "cell_type": "code",
   "execution_count": 7,
   "id": "70692043-1a5e-4cbb-ba94-742fcbb58382",
   "metadata": {},
   "outputs": [],
   "source": [
    "# Funktion um die Ableitung eines Polynoms zu bestimmen\n",
    "def find_derivative(F):\n",
    "\n",
    "    # Iteriere über die Stellen von F und leite diese einzeln ab (nur dann 1, wenn VF=1 und Exp ungerade)\n",
    "    L = [find_exponent(F, i) % 2 if F[i] == 1 else 0\n",
    "                                 for i in range(len(F))]\n",
    "\n",
    "    # Gib L (ohne die letzte Stelle) als Tupel zurück (ohne führende Nullen)\n",
    "    return cut_zeros_left(tuple(L[:-1]))"
   ]
  }
 ],
 "metadata": {
  "kernelspec": {
   "display_name": "Python 3 (ipykernel)",
   "language": "python",
   "name": "python3"
  },
  "language_info": {
   "codemirror_mode": {
    "name": "ipython",
    "version": 3
   },
   "file_extension": ".py",
   "mimetype": "text/x-python",
   "name": "python",
   "nbconvert_exporter": "python",
   "pygments_lexer": "ipython3",
   "version": "3.12.3"
  }
 },
 "nbformat": 4,
 "nbformat_minor": 5
}
