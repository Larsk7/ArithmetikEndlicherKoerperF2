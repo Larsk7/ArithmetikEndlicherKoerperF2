{
 "cells": [
  {
   "cell_type": "code",
   "execution_count": 1,
   "id": "c094caf2-a5d5-4a40-a050-398745eb3567",
   "metadata": {},
   "outputs": [],
   "source": [
    "# Funktion um alle führenden Nullen eines Polynoms von links aus abzuschneiden\n",
    "def cut_zeros_left(F):\n",
    "    \n",
    "    # Nullen einzeln von links wegschneiden\n",
    "    while F and F[0] == 0:\n",
    "        F = F[1:]\n",
    "        \n",
    "    return F"
   ]
  },
  {
   "cell_type": "code",
   "execution_count": 2,
   "id": "df09b89a-eaaf-4c34-b39d-3c0a35814042",
   "metadata": {},
   "outputs": [],
   "source": [
    "# Funktion um alle führenden Nullen eines Polynoms von rechts aus abzuschneiden\n",
    "def cut_zeros_right(F):\n",
    "    \n",
    "    # Nullen einzeln von links wegschneiden\n",
    "    while F and F[-1] == 0:\n",
    "        F = F[:-1]\n",
    "        \n",
    "    return F"
   ]
  },
  {
   "cell_type": "code",
   "execution_count": 3,
   "id": "04d19dfb-3085-4278-8fe3-a9fa16477d91",
   "metadata": {},
   "outputs": [],
   "source": [
    "# Funktion um die Stelle der ersten 1 zu finden\n",
    "def find_pos_of_first_one(F):\n",
    "    \n",
    "    # Gibt die erste Stelle zurück, an der der Wert 1 ist\n",
    "    for i in range(len(F)):\n",
    "        if F[i] == 1:\n",
    "            return i\n",
    "    \n",
    "    # Gibt nichts zurück, falls keine Null im Polynom \n",
    "    return None"
   ]
  },
  {
   "cell_type": "code",
   "execution_count": 4,
   "id": "59ffa0e5-4f57-46ef-bfcf-b735988252fd",
   "metadata": {},
   "outputs": [],
   "source": [
    "# Funktion um den Grad eines Polynoms zu finden\n",
    "def find_degree(F):\n",
    "    \n",
    "    # Erhalte die Stelle der ersten 1\n",
    "    pos_of_first_one = find_pos_of_first_one(F)\n",
    "    \n",
    "    # Bestimme den Grad des Polynoms anhand der Stelle der ersten 1 und der Restlänge des Polynoms\n",
    "    if pos_of_first_one != None:\n",
    "        return (len(F)-1) - pos_of_first_one\n",
    "    \n",
    "    # Wenn das Polynom nur Nullen enthält, kann man keinen Grad bestimmen\n",
    "    else:\n",
    "        return 0"
   ]
  },
  {
   "cell_type": "code",
   "execution_count": 5,
   "id": "10a8eb5c-100b-419a-a102-730fa3cbcc95",
   "metadata": {},
   "outputs": [],
   "source": [
    "# Funktion zum Überprüfen, ob ein Polynom eine Nullstelle hat (True wenns eine Nullstelle hat)\n",
    "def has_root(F):\n",
    "    \n",
    "    # Wenn die letzte Stelle eine 0 ist, dann ist F(0) eine Nullstelle\n",
    "    if F[-1] == 0:\n",
    "        return True\n",
    "        \n",
    "    # Zähle die 1er des Polynoms\n",
    "    one_counter = 0\n",
    "    for i in range(len(F)):\n",
    "        if F[i] == 1:\n",
    "            one_counter = one_counter + 1\n",
    "            \n",
    "    # Wenn die Anzahl der 1er gerade ist, dann ist F(1) eine Nullstelle        \n",
    "    if (one_counter % 2) == 0:\n",
    "        return True\n",
    "    \n",
    "    # Wenn 0 und 1 keine Nullstelle ist, hat das Polynom keine Nullstelle\n",
    "    return False"
   ]
  },
  {
   "cell_type": "code",
   "execution_count": 6,
   "id": "e52ec1cd-70b2-4b4d-b23f-c1f0f14b68d6",
   "metadata": {},
   "outputs": [],
   "source": [
    "# Funktion die ein Tupel in verschiedene Tupel aufteilt, in denen jeweils nur eine 1 steht\n",
    "# position_indexes bestimmt welche Positionen eine 1 haben muss und L die Länge des Polynoms\n",
    "def create_splitted_tuples(position_indexes, L):\n",
    "    \n",
    "    # Leere Liste, in die später die Tupel geschrieben werden\n",
    "    tuple_list = []\n",
    "    \n",
    "    # Erstelle so viele Tupel, wie Elemente in P sind\n",
    "    for index in position_indexes:\n",
    "        \n",
    "        # Erstellung der Tupel, die je nur eine 1 haben\n",
    "        tuple_element = tuple(1 if i == index else 0 for i in range(L))\n",
    "        \n",
    "        # Erstelltes Tupel an die Liste anhängen\n",
    "        tuple_list.append(tuple_element)\n",
    "    \n",
    "    return tuple_list"
   ]
  }
 ],
 "metadata": {
  "kernelspec": {
   "display_name": "Python 3 (ipykernel)",
   "language": "python",
   "name": "python3"
  },
  "language_info": {
   "codemirror_mode": {
    "name": "ipython",
    "version": 3
   },
   "file_extension": ".py",
   "mimetype": "text/x-python",
   "name": "python",
   "nbconvert_exporter": "python",
   "pygments_lexer": "ipython3",
   "version": "3.12.3"
  }
 },
 "nbformat": 4,
 "nbformat_minor": 5
}
